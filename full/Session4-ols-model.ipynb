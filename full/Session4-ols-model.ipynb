{
 "cells": [
  {
   "cell_type": "markdown",
   "id": "0375d3f9-6b87-42ec-bb48-72d64a3d8d03",
   "metadata": {},
   "source": [
    "# 讀取資料"
   ]
  },
  {
   "cell_type": "code",
   "execution_count": 1,
   "id": "86d2a34c-ded0-4964-a2d4-fbaee3ed7cac",
   "metadata": {},
   "outputs": [],
   "source": [
    "import pandas as pd\n",
    "import numpy as np"
   ]
  },
  {
   "cell_type": "code",
   "execution_count": 2,
   "id": "455c7c85-b58f-4a14-86a1-fa3378c31580",
   "metadata": {},
   "outputs": [],
   "source": [
    "merge_data = pd.read_excel('merge_data_fill_na.xlsx')"
   ]
  },
  {
   "cell_type": "code",
   "execution_count": 3,
   "id": "852d5bf7-6455-4d25-b597-c74b3f8980c6",
   "metadata": {},
   "outputs": [],
   "source": [
    "col = ['ret', 'size_ln', 'op_exp_ln',\n",
    "       'ROA', 'ROE', 'op_pm', \n",
    "       'AT', 'FCF_sd', 'Lev', 'DY', 'TQ']"
   ]
  },
  {
   "cell_type": "code",
   "execution_count": 4,
   "id": "eeea0fce-b852-4755-95fb-c5435642c3ba",
   "metadata": {},
   "outputs": [],
   "source": [
    "merge_data[\"size_ln\"] = merge_data[\"size\"].apply(np.log)\n",
    "merge_data[\"op_exp_ln\"] = merge_data[\"op_exp\"].apply(np.log)"
   ]
  },
  {
   "cell_type": "code",
   "execution_count": 5,
   "id": "11382e08-acf3-4a2f-af23-897c8aba2ca5",
   "metadata": {},
   "outputs": [],
   "source": [
    "# 定義標準化函數\n",
    "def standardize(group):\n",
    "    return (group - group.mean()) / group.std()\n",
    "\n",
    "# 按股票代號標準化 FCF\n",
    "merge_data['FCF_sd'] = merge_data.groupby('code')['FCF'].transform(standardize)"
   ]
  },
  {
   "cell_type": "code",
   "execution_count": 6,
   "id": "296f7838-f2ce-4ec4-a5f2-1ea502b3b064",
   "metadata": {},
   "outputs": [],
   "source": [
    "research_data = merge_data[col]\n",
    "research_data = research_data.dropna()"
   ]
  },
  {
   "cell_type": "code",
   "execution_count": null,
   "id": "ac68a51c-589c-4462-852c-ef38dbd3063c",
   "metadata": {},
   "outputs": [],
   "source": []
  },
  {
   "cell_type": "markdown",
   "id": "1878a2c5-1cc4-404c-a1af-7a7759012eac",
   "metadata": {},
   "source": [
    "# 要跑模型的變數"
   ]
  },
  {
   "cell_type": "code",
   "execution_count": 8,
   "id": "f51519e8-016b-4500-bb4b-61b4de8e747e",
   "metadata": {},
   "outputs": [],
   "source": [
    "# 應變數 Y\n",
    "y = research_data['ret']\n",
    "\n",
    "# 自變數 X\n",
    "X = research_data[[\"TQ\", \"size_ln\", \"FCF_sd\", \"Lev\", \"ROE\", \"op_exp_ln\", \"DY\"]]"
   ]
  },
  {
   "cell_type": "markdown",
   "id": "a6dd6be2-15aa-48d0-9129-a4c7af9e64c5",
   "metadata": {},
   "source": [
    "# 迴歸模型建立"
   ]
  },
  {
   "cell_type": "code",
   "execution_count": 11,
   "id": "cbebeecd-9c7d-4a31-910a-fde2b803e858",
   "metadata": {},
   "outputs": [],
   "source": [
    "### https://www.statsmodels.org/dev/install.html\n",
    "# !pip install statsmodels"
   ]
  },
  {
   "cell_type": "code",
   "execution_count": 12,
   "id": "9b24d246-cd56-41a0-a3c0-e7721327e8f4",
   "metadata": {},
   "outputs": [],
   "source": [
    "import statsmodels.api as sm"
   ]
  },
  {
   "cell_type": "code",
   "execution_count": 15,
   "id": "0406e9f3-6144-4585-81be-0cc1da1b358c",
   "metadata": {},
   "outputs": [],
   "source": [
    "## 建立迴歸模型\n",
    "model = sm.OLS(y, sm.add_constant(X)) \n",
    "## Fit model\n",
    "result = model.fit()"
   ]
  },
  {
   "cell_type": "code",
   "execution_count": 16,
   "id": "60d04736-eb52-44c8-b74b-33c63ae428f0",
   "metadata": {},
   "outputs": [
    {
     "data": {
      "text/html": [
       "<table class=\"simpletable\">\n",
       "<caption>OLS Regression Results</caption>\n",
       "<tr>\n",
       "  <th>Dep. Variable:</th>           <td>ret</td>       <th>  R-squared:         </th> <td>   0.001</td> \n",
       "</tr>\n",
       "<tr>\n",
       "  <th>Model:</th>                   <td>OLS</td>       <th>  Adj. R-squared:    </th> <td>   0.001</td> \n",
       "</tr>\n",
       "<tr>\n",
       "  <th>Method:</th>             <td>Least Squares</td>  <th>  F-statistic:       </th> <td>   1.994</td> \n",
       "</tr>\n",
       "<tr>\n",
       "  <th>Date:</th>             <td>Fri, 15 Nov 2024</td> <th>  Prob (F-statistic):</th>  <td>0.0520</td>  \n",
       "</tr>\n",
       "<tr>\n",
       "  <th>Time:</th>                 <td>02:35:26</td>     <th>  Log-Likelihood:    </th> <td> -18300.</td> \n",
       "</tr>\n",
       "<tr>\n",
       "  <th>No. Observations:</th>      <td>  9716</td>      <th>  AIC:               </th> <td>3.662e+04</td>\n",
       "</tr>\n",
       "<tr>\n",
       "  <th>Df Residuals:</th>          <td>  9708</td>      <th>  BIC:               </th> <td>3.667e+04</td>\n",
       "</tr>\n",
       "<tr>\n",
       "  <th>Df Model:</th>              <td>     7</td>      <th>                     </th>     <td> </td>    \n",
       "</tr>\n",
       "<tr>\n",
       "  <th>Covariance Type:</th>      <td>nonrobust</td>    <th>                     </th>     <td> </td>    \n",
       "</tr>\n",
       "</table>\n",
       "<table class=\"simpletable\">\n",
       "<tr>\n",
       "      <td></td>         <th>coef</th>     <th>std err</th>      <th>t</th>      <th>P>|t|</th>  <th>[0.025</th>    <th>0.975]</th>  \n",
       "</tr>\n",
       "<tr>\n",
       "  <th>const</th>     <td>    0.1480</td> <td>    0.132</td> <td>    1.125</td> <td> 0.261</td> <td>   -0.110</td> <td>    0.406</td>\n",
       "</tr>\n",
       "<tr>\n",
       "  <th>TQ</th>        <td>   -0.1788</td> <td>    0.075</td> <td>   -2.385</td> <td> 0.017</td> <td>   -0.326</td> <td>   -0.032</td>\n",
       "</tr>\n",
       "<tr>\n",
       "  <th>size_ln</th>   <td>    0.0947</td> <td>    0.037</td> <td>    2.574</td> <td> 0.010</td> <td>    0.023</td> <td>    0.167</td>\n",
       "</tr>\n",
       "<tr>\n",
       "  <th>FCF_sd</th>    <td>   -0.0141</td> <td>    0.018</td> <td>   -0.808</td> <td> 0.419</td> <td>   -0.048</td> <td>    0.020</td>\n",
       "</tr>\n",
       "<tr>\n",
       "  <th>Lev</th>       <td>    0.0696</td> <td>    0.030</td> <td>    2.284</td> <td> 0.022</td> <td>    0.010</td> <td>    0.129</td>\n",
       "</tr>\n",
       "<tr>\n",
       "  <th>ROE</th>       <td>    0.0084</td> <td>    0.004</td> <td>    1.960</td> <td> 0.050</td> <td> 1.54e-07</td> <td>    0.017</td>\n",
       "</tr>\n",
       "<tr>\n",
       "  <th>op_exp_ln</th> <td>   -0.0666</td> <td>    0.026</td> <td>   -2.597</td> <td> 0.009</td> <td>   -0.117</td> <td>   -0.016</td>\n",
       "</tr>\n",
       "<tr>\n",
       "  <th>DY</th>        <td>   -0.0233</td> <td>    0.016</td> <td>   -1.482</td> <td> 0.138</td> <td>   -0.054</td> <td>    0.008</td>\n",
       "</tr>\n",
       "</table>\n",
       "<table class=\"simpletable\">\n",
       "<tr>\n",
       "  <th>Omnibus:</th>       <td>2987.942</td> <th>  Durbin-Watson:     </th> <td>   1.766</td> \n",
       "</tr>\n",
       "<tr>\n",
       "  <th>Prob(Omnibus):</th>  <td> 0.000</td>  <th>  Jarque-Bera (JB):  </th> <td>44964.294</td>\n",
       "</tr>\n",
       "<tr>\n",
       "  <th>Skew:</th>           <td> 1.062</td>  <th>  Prob(JB):          </th> <td>    0.00</td> \n",
       "</tr>\n",
       "<tr>\n",
       "  <th>Kurtosis:</th>       <td>13.323</td>  <th>  Cond. No.          </th> <td>    182.</td> \n",
       "</tr>\n",
       "</table><br/><br/>Notes:<br/>[1] Standard Errors assume that the covariance matrix of the errors is correctly specified."
      ],
      "text/latex": [
       "\\begin{center}\n",
       "\\begin{tabular}{lclc}\n",
       "\\toprule\n",
       "\\textbf{Dep. Variable:}    &       ret        & \\textbf{  R-squared:         } &     0.001   \\\\\n",
       "\\textbf{Model:}            &       OLS        & \\textbf{  Adj. R-squared:    } &     0.001   \\\\\n",
       "\\textbf{Method:}           &  Least Squares   & \\textbf{  F-statistic:       } &     1.994   \\\\\n",
       "\\textbf{Date:}             & Fri, 15 Nov 2024 & \\textbf{  Prob (F-statistic):} &   0.0520    \\\\\n",
       "\\textbf{Time:}             &     02:35:26     & \\textbf{  Log-Likelihood:    } &   -18300.   \\\\\n",
       "\\textbf{No. Observations:} &        9716      & \\textbf{  AIC:               } & 3.662e+04   \\\\\n",
       "\\textbf{Df Residuals:}     &        9708      & \\textbf{  BIC:               } & 3.667e+04   \\\\\n",
       "\\textbf{Df Model:}         &           7      & \\textbf{                     } &             \\\\\n",
       "\\textbf{Covariance Type:}  &    nonrobust     & \\textbf{                     } &             \\\\\n",
       "\\bottomrule\n",
       "\\end{tabular}\n",
       "\\begin{tabular}{lcccccc}\n",
       "                     & \\textbf{coef} & \\textbf{std err} & \\textbf{t} & \\textbf{P$> |$t$|$} & \\textbf{[0.025} & \\textbf{0.975]}  \\\\\n",
       "\\midrule\n",
       "\\textbf{const}       &       0.1480  &        0.132     &     1.125  &         0.261        &       -0.110    &        0.406     \\\\\n",
       "\\textbf{TQ}          &      -0.1788  &        0.075     &    -2.385  &         0.017        &       -0.326    &       -0.032     \\\\\n",
       "\\textbf{size\\_ln}    &       0.0947  &        0.037     &     2.574  &         0.010        &        0.023    &        0.167     \\\\\n",
       "\\textbf{FCF\\_sd}     &      -0.0141  &        0.018     &    -0.808  &         0.419        &       -0.048    &        0.020     \\\\\n",
       "\\textbf{Lev}         &       0.0696  &        0.030     &     2.284  &         0.022        &        0.010    &        0.129     \\\\\n",
       "\\textbf{ROE}         &       0.0084  &        0.004     &     1.960  &         0.050        &     1.54e-07    &        0.017     \\\\\n",
       "\\textbf{op\\_exp\\_ln} &      -0.0666  &        0.026     &    -2.597  &         0.009        &       -0.117    &       -0.016     \\\\\n",
       "\\textbf{DY}          &      -0.0233  &        0.016     &    -1.482  &         0.138        &       -0.054    &        0.008     \\\\\n",
       "\\bottomrule\n",
       "\\end{tabular}\n",
       "\\begin{tabular}{lclc}\n",
       "\\textbf{Omnibus:}       & 2987.942 & \\textbf{  Durbin-Watson:     } &     1.766  \\\\\n",
       "\\textbf{Prob(Omnibus):} &   0.000  & \\textbf{  Jarque-Bera (JB):  } & 44964.294  \\\\\n",
       "\\textbf{Skew:}          &   1.062  & \\textbf{  Prob(JB):          } &      0.00  \\\\\n",
       "\\textbf{Kurtosis:}      &  13.323  & \\textbf{  Cond. No.          } &      182.  \\\\\n",
       "\\bottomrule\n",
       "\\end{tabular}\n",
       "%\\caption{OLS Regression Results}\n",
       "\\end{center}\n",
       "\n",
       "Notes: \\newline\n",
       " [1] Standard Errors assume that the covariance matrix of the errors is correctly specified."
      ],
      "text/plain": [
       "<class 'statsmodels.iolib.summary.Summary'>\n",
       "\"\"\"\n",
       "                            OLS Regression Results                            \n",
       "==============================================================================\n",
       "Dep. Variable:                    ret   R-squared:                       0.001\n",
       "Model:                            OLS   Adj. R-squared:                  0.001\n",
       "Method:                 Least Squares   F-statistic:                     1.994\n",
       "Date:                Fri, 15 Nov 2024   Prob (F-statistic):             0.0520\n",
       "Time:                        02:35:26   Log-Likelihood:                -18300.\n",
       "No. Observations:                9716   AIC:                         3.662e+04\n",
       "Df Residuals:                    9708   BIC:                         3.667e+04\n",
       "Df Model:                           7                                         \n",
       "Covariance Type:            nonrobust                                         \n",
       "==============================================================================\n",
       "                 coef    std err          t      P>|t|      [0.025      0.975]\n",
       "------------------------------------------------------------------------------\n",
       "const          0.1480      0.132      1.125      0.261      -0.110       0.406\n",
       "TQ            -0.1788      0.075     -2.385      0.017      -0.326      -0.032\n",
       "size_ln        0.0947      0.037      2.574      0.010       0.023       0.167\n",
       "FCF_sd        -0.0141      0.018     -0.808      0.419      -0.048       0.020\n",
       "Lev            0.0696      0.030      2.284      0.022       0.010       0.129\n",
       "ROE            0.0084      0.004      1.960      0.050    1.54e-07       0.017\n",
       "op_exp_ln     -0.0666      0.026     -2.597      0.009      -0.117      -0.016\n",
       "DY            -0.0233      0.016     -1.482      0.138      -0.054       0.008\n",
       "==============================================================================\n",
       "Omnibus:                     2987.942   Durbin-Watson:                   1.766\n",
       "Prob(Omnibus):                  0.000   Jarque-Bera (JB):            44964.294\n",
       "Skew:                           1.062   Prob(JB):                         0.00\n",
       "Kurtosis:                      13.323   Cond. No.                         182.\n",
       "==============================================================================\n",
       "\n",
       "Notes:\n",
       "[1] Standard Errors assume that the covariance matrix of the errors is correctly specified.\n",
       "\"\"\""
      ]
     },
     "execution_count": 16,
     "metadata": {},
     "output_type": "execute_result"
    }
   ],
   "source": [
    "result.summary()"
   ]
  },
  {
   "cell_type": "code",
   "execution_count": null,
   "id": "3169995e-08de-496d-8241-66835e5b4ac2",
   "metadata": {},
   "outputs": [],
   "source": []
  },
  {
   "cell_type": "code",
   "execution_count": null,
   "id": "a331cd00-7605-43c2-9f3d-02ed57b2ad23",
   "metadata": {},
   "outputs": [],
   "source": [
    "research_data.describe()"
   ]
  },
  {
   "cell_type": "markdown",
   "id": "cfa9838e-4a54-44db-9d7d-8d08cffc052e",
   "metadata": {},
   "source": [
    "## 偏態 與 峰態"
   ]
  },
  {
   "cell_type": "code",
   "execution_count": null,
   "id": "ce9c805d-ff82-473b-9d0a-0643be4aab13",
   "metadata": {},
   "outputs": [],
   "source": [
    "from scipy import stats"
   ]
  },
  {
   "cell_type": "code",
   "execution_count": null,
   "id": "46aedb13-b5ff-4d4f-a109-0f75ee8a5fe9",
   "metadata": {},
   "outputs": [],
   "source": [
    "## 偏態\n",
    "skew = stats.skew(research_data)\n",
    "## 峰態 fisher=False 是 Eviews 作法\n",
    "kurtosis = stats.kurtosis(research_data, fisher=False)\n",
    "\n",
    "print('skew      :  {}'.format(skew))\n",
    "print('kurtosis  :  {}'.format(kurtosis))"
   ]
  },
  {
   "cell_type": "code",
   "execution_count": null,
   "id": "2e8558b0-bf56-49d8-898f-a9e133807291",
   "metadata": {},
   "outputs": [],
   "source": []
  },
  {
   "cell_type": "code",
   "execution_count": null,
   "id": "fb73e428-1d7c-4602-9e60-4f3b12d6cccd",
   "metadata": {},
   "outputs": [],
   "source": []
  }
 ],
 "metadata": {
  "kernelspec": {
   "display_name": "Python 3 (ipykernel)",
   "language": "python",
   "name": "python3"
  },
  "language_info": {
   "codemirror_mode": {
    "name": "ipython",
    "version": 3
   },
   "file_extension": ".py",
   "mimetype": "text/x-python",
   "name": "python",
   "nbconvert_exporter": "python",
   "pygments_lexer": "ipython3",
   "version": "3.11.10"
  }
 },
 "nbformat": 4,
 "nbformat_minor": 5
}
