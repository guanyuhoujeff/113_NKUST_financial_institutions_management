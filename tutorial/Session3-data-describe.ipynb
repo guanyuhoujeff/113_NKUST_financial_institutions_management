{
 "cells": [
  {
   "cell_type": "markdown",
   "id": "0375d3f9-6b87-42ec-bb48-72d64a3d8d03",
   "metadata": {},
   "source": [
    "# 套件"
   ]
  },
  {
   "cell_type": "code",
   "execution_count": null,
   "id": "86d2a34c-ded0-4964-a2d4-fbaee3ed7cac",
   "metadata": {},
   "outputs": [],
   "source": [
    "import pandas as pd\n",
    "import numpy as np"
   ]
  },
  {
   "cell_type": "code",
   "execution_count": null,
   "id": "455c7c85-b58f-4a14-86a1-fa3378c31580",
   "metadata": {},
   "outputs": [],
   "source": [
    "# 讀取檔案\n",
    "\n",
    "merge_data = pd. ???? ('merge_data_fill_na.xlsx')"
   ]
  },
  {
   "cell_type": "code",
   "execution_count": null,
   "id": "92ec039e-8546-49fc-8f4a-9a76c489bce1",
   "metadata": {},
   "outputs": [],
   "source": [
    "merge_data"
   ]
  },
  {
   "cell_type": "markdown",
   "id": "caf4ec7d-5aee-413b-aaaa-51fc61bc8206",
   "metadata": {},
   "source": [
    "# 敘述性統計"
   ]
  },
  {
   "cell_type": "code",
   "execution_count": null,
   "id": "a331cd00-7605-43c2-9f3d-02ed57b2ad23",
   "metadata": {},
   "outputs": [],
   "source": [
    "merge_data. ??? ()"
   ]
  },
  {
   "cell_type": "code",
   "execution_count": null,
   "id": "98966eb3-edaa-407b-96be-d7bd5219d71e",
   "metadata": {},
   "outputs": [],
   "source": []
  },
  {
   "cell_type": "markdown",
   "id": "d4c183b3-ed8c-4b01-88e9-6ffbfa48ff89",
   "metadata": {},
   "source": [
    "# 資料轉換"
   ]
  },
  {
   "cell_type": "code",
   "execution_count": null,
   "id": "e1cf366a-1a3c-4327-bc00-6f0e95d3f32d",
   "metadata": {},
   "outputs": [],
   "source": [
    "# 在正的大scale資料上。我們經常做 ln處理\n",
    "\n",
    "merge_data[\"size_ln\"] = merge_data[\"size\"].apply(???)\n",
    "merge_data[\"op_exp_ln\"] = merge_data[\"op_exp\"].apply(??)"
   ]
  },
  {
   "cell_type": "code",
   "execution_count": null,
   "id": "276964db-3502-454b-b842-e605b647b064",
   "metadata": {},
   "outputs": [],
   "source": []
  },
  {
   "cell_type": "markdown",
   "id": "6d3c774d-d8b1-47e6-9eb8-8fbcb61a0f00",
   "metadata": {},
   "source": [
    "因為自有資金有負號，不能取 ln，我們用標準化"
   ]
  },
  {
   "cell_type": "code",
   "execution_count": null,
   "id": "fb2d51b0-dd47-4e3c-895d-1a5fd72f6649",
   "metadata": {},
   "outputs": [],
   "source": []
  },
  {
   "cell_type": "code",
   "execution_count": null,
   "id": "f1bb4746-9462-4e1c-81a9-e4c81c22de7b",
   "metadata": {},
   "outputs": [],
   "source": [
    "# 定義標準化函數\n",
    "def standardize(group):\n",
    "    return (group - group.mean()) / group.std()\n",
    "\n",
    "# 按股票代號標準化 FCF\n",
    "merge_data['FCF_sd'] = merge_data.groupby('code')['FCF'].transform(standardize)"
   ]
  },
  {
   "cell_type": "code",
   "execution_count": null,
   "id": "738f5ad1-82d5-4455-b168-1376a9edc81c",
   "metadata": {
    "scrolled": true
   },
   "outputs": [],
   "source": [
    "merge_data"
   ]
  },
  {
   "cell_type": "code",
   "execution_count": null,
   "id": "5d3b1edd-7f40-429a-8c98-625137ab8b8b",
   "metadata": {},
   "outputs": [],
   "source": []
  },
  {
   "cell_type": "markdown",
   "id": "1cf89518-b71a-4a66-8752-b2f56f590df9",
   "metadata": {},
   "source": [
    "# 數值欄位的統計"
   ]
  },
  {
   "cell_type": "code",
   "execution_count": null,
   "id": "852d5bf7-6455-4d25-b597-c74b3f8980c6",
   "metadata": {},
   "outputs": [],
   "source": [
    "col = ['ret', 'size_ln', 'op_exp_ln',\n",
    "       'ROA', 'ROE', 'op_pm', \n",
    "       'AT', 'FCF_sd', 'Lev', 'DY', 'TQ']"
   ]
  },
  {
   "cell_type": "code",
   "execution_count": null,
   "id": "37256482-2513-4c98-8810-914897d4b215",
   "metadata": {},
   "outputs": [],
   "source": [
    "# 選擇指定的欄位\n",
    "\n",
    "research_data = merge_data ????"
   ]
  },
  {
   "cell_type": "code",
   "execution_count": null,
   "id": "36fa25d1-1bbb-400b-a3e5-44ab20a0f6c6",
   "metadata": {},
   "outputs": [],
   "source": [
    "# 移除遺漏值\n",
    "\n",
    "research_data = research_data ??? ()"
   ]
  },
  {
   "cell_type": "code",
   "execution_count": null,
   "id": "1145a892-2f27-4a61-b30a-009fe3ae9637",
   "metadata": {},
   "outputs": [],
   "source": [
    "research_data"
   ]
  },
  {
   "cell_type": "markdown",
   "id": "cfa9838e-4a54-44db-9d7d-8d08cffc052e",
   "metadata": {},
   "source": [
    "## 偏態 與 峰態"
   ]
  },
  {
   "cell_type": "code",
   "execution_count": null,
   "id": "ce9c805d-ff82-473b-9d0a-0643be4aab13",
   "metadata": {},
   "outputs": [],
   "source": [
    "from scipy import stats"
   ]
  },
  {
   "cell_type": "code",
   "execution_count": null,
   "id": "46aedb13-b5ff-4d4f-a109-0f75ee8a5fe9",
   "metadata": {},
   "outputs": [],
   "source": [
    "## 偏態\n",
    "skew = stats. ??? (research_data)\n",
    "\n",
    "## 峰態 fisher=False 是 Eviews 作法\n",
    "kurtosis = stats. ???(research_data, fisher=False)\n",
    "\n",
    "print('skew      :  {}'.format(skew))\n",
    "print('kurtosis  :  {}'.format(kurtosis))"
   ]
  },
  {
   "cell_type": "code",
   "execution_count": null,
   "id": "2e8558b0-bf56-49d8-898f-a9e133807291",
   "metadata": {},
   "outputs": [],
   "source": []
  },
  {
   "cell_type": "markdown",
   "id": "6fefaca5-3de9-4c1f-894f-dc5e523cfb55",
   "metadata": {},
   "source": [
    "# 相關係數表"
   ]
  },
  {
   "cell_type": "code",
   "execution_count": null,
   "id": "bb580174-8d8d-4f2c-a972-3b4eebcbca67",
   "metadata": {},
   "outputs": [],
   "source": [
    "corr_table = research_data ???\n",
    "corr_table"
   ]
  },
  {
   "cell_type": "code",
   "execution_count": null,
   "id": "d0ad307a-9028-4eb2-9e8e-cb63c8344d51",
   "metadata": {},
   "outputs": [],
   "source": []
  },
  {
   "cell_type": "markdown",
   "id": "51ddb5ed-7ac0-45a0-8b78-27828934f274",
   "metadata": {},
   "source": [
    "# 繪圖"
   ]
  },
  {
   "cell_type": "code",
   "execution_count": null,
   "id": "cc56972b-76f6-4cec-abf7-9746ee9acf8b",
   "metadata": {},
   "outputs": [],
   "source": [
    "!pip install seaborn"
   ]
  },
  {
   "cell_type": "code",
   "execution_count": null,
   "id": "fb1a4b72-609b-4c04-9d62-a515146c26ac",
   "metadata": {},
   "outputs": [],
   "source": [
    "import matplotlib.pyplot as plt\n",
    "import seaborn as sns"
   ]
  },
  {
   "cell_type": "markdown",
   "id": "92979dc6-60bf-4e58-bfb5-e1ba113602ea",
   "metadata": {},
   "source": [
    "# 分佈圖(直方圖)"
   ]
  },
  {
   "cell_type": "code",
   "execution_count": null,
   "id": "775e8c38-1a41-4d9e-8a35-745d558bdc80",
   "metadata": {},
   "outputs": [],
   "source": [
    "plt.figure(figsize=(6, 4))\n",
    "plt.  ?????  (research_data[\"ret\"], bins=50)\n",
    "plt.title('ret')\n",
    "plt.grid(color = 'gray', linestyle = '--', linewidth = 1)\n",
    "plt.show()"
   ]
  },
  {
   "cell_type": "markdown",
   "id": "a409bb95-22d8-4412-87ba-b4f76f48dfe6",
   "metadata": {},
   "source": [
    "# 相關係數圖"
   ]
  },
  {
   "cell_type": "code",
   "execution_count": null,
   "id": "201c2847-b0a5-4c93-b401-dea8347f710b",
   "metadata": {},
   "outputs": [],
   "source": [
    "\n",
    "# 使用 Seaborn 繪製熱圖\n",
    "plt.figure(figsize=(10, 6))\n",
    "sns. ???? (corr_table, annot=True, cmap=\"coolwarm\", fmt=\".2f\")\n",
    "plt.title(\"Correlation Heatmap\")\n",
    "plt.show()\n"
   ]
  },
  {
   "cell_type": "code",
   "execution_count": null,
   "id": "fb73e428-1d7c-4602-9e60-4f3b12d6cccd",
   "metadata": {},
   "outputs": [],
   "source": []
  }
 ],
 "metadata": {
  "kernelspec": {
   "display_name": "Python 3 (ipykernel)",
   "language": "python",
   "name": "python3"
  },
  "language_info": {
   "codemirror_mode": {
    "name": "ipython",
    "version": 3
   },
   "file_extension": ".py",
   "mimetype": "text/x-python",
   "name": "python",
   "nbconvert_exporter": "python",
   "pygments_lexer": "ipython3",
   "version": "3.11.10"
  }
 },
 "nbformat": 4,
 "nbformat_minor": 5
}
