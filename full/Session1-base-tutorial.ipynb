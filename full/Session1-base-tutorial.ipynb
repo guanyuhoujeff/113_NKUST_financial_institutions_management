{
 "cells": [
  {
   "cell_type": "markdown",
   "metadata": {},
   "source": [
    "\n",
    "# 執行 cell：\n",
    "   * Shfit + Enter 執行該 cell 且跳下一個 cell \n",
    "   * Ctrl + Enter 執行該 cell (但停在該 cell)\n",
    "   \n",
    "# 如果想要做註解：\n",
    "   *  單行  -> #　　　快捷鍵「Ctrl + /」\n",
    "   *  多行  -> \"\"\"  \"\"\""
   ]
  },
  {
   "cell_type": "code",
   "execution_count": 1,
   "metadata": {},
   "outputs": [],
   "source": [
    "a = 123\n",
    "b = 456\n",
    "c = 78.9"
   ]
  },
  {
   "cell_type": "code",
   "execution_count": 2,
   "metadata": {},
   "outputs": [
    {
     "data": {
      "text/plain": [
       "123"
      ]
     },
     "execution_count": 2,
     "metadata": {},
     "output_type": "execute_result"
    }
   ],
   "source": [
    "a"
   ]
  },
  {
   "cell_type": "code",
   "execution_count": 3,
   "metadata": {},
   "outputs": [
    {
     "data": {
      "text/plain": [
       "456"
      ]
     },
     "execution_count": 3,
     "metadata": {},
     "output_type": "execute_result"
    }
   ],
   "source": [
    "## a 的值跑不出來？\n",
    "a\n",
    "b"
   ]
  },
  {
   "cell_type": "code",
   "execution_count": 4,
   "metadata": {},
   "outputs": [
    {
     "name": "stdout",
     "output_type": "stream",
     "text": [
      "123\n",
      "456\n"
     ]
    }
   ],
   "source": [
    "print(a)\n",
    "print(b)"
   ]
  },
  {
   "cell_type": "code",
   "execution_count": 5,
   "metadata": {},
   "outputs": [
    {
     "name": "stdout",
     "output_type": "stream",
     "text": [
      "a =>  123\n",
      "b =>  456\n"
     ]
    }
   ],
   "source": [
    "print(\"a => \", a)\n",
    "print(\"b => \", b)"
   ]
  },
  {
   "cell_type": "markdown",
   "metadata": {},
   "source": [
    "# 函式說明：\n",
    "  * ?FunctionName\n",
    "  * help(FunctionName)"
   ]
  },
  {
   "cell_type": "code",
   "execution_count": 6,
   "metadata": {},
   "outputs": [
    {
     "data": {
      "text/plain": [
       "\u001b[1;31mSignature:\u001b[0m \u001b[0mprint\u001b[0m\u001b[1;33m(\u001b[0m\u001b[1;33m*\u001b[0m\u001b[0margs\u001b[0m\u001b[1;33m,\u001b[0m \u001b[0msep\u001b[0m\u001b[1;33m=\u001b[0m\u001b[1;34m' '\u001b[0m\u001b[1;33m,\u001b[0m \u001b[0mend\u001b[0m\u001b[1;33m=\u001b[0m\u001b[1;34m'\\n'\u001b[0m\u001b[1;33m,\u001b[0m \u001b[0mfile\u001b[0m\u001b[1;33m=\u001b[0m\u001b[1;32mNone\u001b[0m\u001b[1;33m,\u001b[0m \u001b[0mflush\u001b[0m\u001b[1;33m=\u001b[0m\u001b[1;32mFalse\u001b[0m\u001b[1;33m)\u001b[0m\u001b[1;33m\u001b[0m\u001b[1;33m\u001b[0m\u001b[0m\n",
       "\u001b[1;31mDocstring:\u001b[0m\n",
       "Prints the values to a stream, or to sys.stdout by default.\n",
       "\n",
       "sep\n",
       "  string inserted between values, default a space.\n",
       "end\n",
       "  string appended after the last value, default a newline.\n",
       "file\n",
       "  a file-like object (stream); defaults to the current sys.stdout.\n",
       "flush\n",
       "  whether to forcibly flush the stream.\n",
       "\u001b[1;31mType:\u001b[0m      builtin_function_or_method"
      ]
     },
     "metadata": {},
     "output_type": "display_data"
    }
   ],
   "source": [
    "?print"
   ]
  },
  {
   "cell_type": "code",
   "execution_count": 7,
   "metadata": {},
   "outputs": [
    {
     "name": "stdout",
     "output_type": "stream",
     "text": [
      "Help on built-in function sum in module builtins:\n",
      "\n",
      "sum(iterable, /, start=0)\n",
      "    Return the sum of a 'start' value (default: 0) plus an iterable of numbers\n",
      "    \n",
      "    When the iterable is empty, return the start value.\n",
      "    This function is intended specifically for use with numeric values and may\n",
      "    reject non-numeric types.\n",
      "\n"
     ]
    }
   ],
   "source": [
    "help(sum)"
   ]
  },
  {
   "cell_type": "markdown",
   "metadata": {},
   "source": [
    "# 數字的 + - * / (加減乘除)"
   ]
  },
  {
   "cell_type": "code",
   "execution_count": 8,
   "metadata": {},
   "outputs": [
    {
     "data": {
      "text/plain": [
       "534.9"
      ]
     },
     "execution_count": 8,
     "metadata": {},
     "output_type": "execute_result"
    }
   ],
   "source": [
    "b + c"
   ]
  },
  {
   "cell_type": "code",
   "execution_count": 9,
   "metadata": {},
   "outputs": [
    {
     "data": {
      "text/plain": [
       "9704.7"
      ]
     },
     "execution_count": 9,
     "metadata": {},
     "output_type": "execute_result"
    }
   ],
   "source": [
    "a*c"
   ]
  },
  {
   "cell_type": "code",
   "execution_count": 10,
   "metadata": {},
   "outputs": [
    {
     "data": {
      "text/plain": [
       "3.707317073170732"
      ]
     },
     "execution_count": 10,
     "metadata": {},
     "output_type": "execute_result"
    }
   ],
   "source": [
    "d = a - b\n",
    "b/a"
   ]
  },
  {
   "cell_type": "markdown",
   "metadata": {},
   "source": [
    "# 常見的資料型態"
   ]
  },
  {
   "cell_type": "markdown",
   "metadata": {},
   "source": [
    "* 數值 number\n",
    "     - 整數 integer (int)\n",
    "     - 浮點數 float\n",
    "* 字串 string (str)\n",
    "* 邏輯 boolean (bool): True: 1; False: 0\n",
    "* 容器型態\n",
    "     - [列表 list](http://www.runoob.com/python/python-lists.html)\n",
    "     - [元組 tuple](http://www.runoob.com/python/python-tuples.html)\n",
    "     - [字典 dict](http://www.runoob.com/python/python-dictionary.html)\n",
    "     - [集合 set](http://www.iplaypython.com/jichu/set.html)\n",
    "     \n",
    "### 分成不可變(immutable)與可變(mutable)\n",
    "* immutable: int, float, str, bool, tuple\n",
    "* mutable: list, dict, set"
   ]
  },
  {
   "cell_type": "markdown",
   "metadata": {},
   "source": [
    "# 字串 str"
   ]
  },
  {
   "cell_type": "code",
   "execution_count": 11,
   "metadata": {},
   "outputs": [],
   "source": [
    "life = \"     人生     \"\n",
    "essentials =  \"   貓咪   \""
   ]
  },
  {
   "cell_type": "code",
   "execution_count": 12,
   "metadata": {},
   "outputs": [
    {
     "data": {
      "text/plain": [
       "str"
      ]
     },
     "execution_count": 12,
     "metadata": {},
     "output_type": "execute_result"
    }
   ],
   "source": [
    "type(life) "
   ]
  },
  {
   "cell_type": "code",
   "execution_count": 13,
   "metadata": {},
   "outputs": [
    {
     "data": {
      "text/plain": [
       "'人生'"
      ]
     },
     "execution_count": 13,
     "metadata": {},
     "output_type": "execute_result"
    }
   ],
   "source": [
    "# 去除空白（左右）\n",
    "\n",
    "life.strip()"
   ]
  },
  {
   "cell_type": "code",
   "execution_count": 14,
   "metadata": {},
   "outputs": [
    {
     "data": {
      "text/plain": [
       "'     人生        貓咪   '"
      ]
     },
     "execution_count": 14,
     "metadata": {},
     "output_type": "execute_result"
    }
   ],
   "source": [
    "# 字串加 與 乘\n",
    "\n",
    "life + essentials"
   ]
  },
  {
   "cell_type": "code",
   "execution_count": 15,
   "metadata": {},
   "outputs": [
    {
     "data": {
      "text/plain": [
       "'   貓咪      貓咪      貓咪      貓咪      貓咪      貓咪      貓咪      貓咪      貓咪      貓咪   '"
      ]
     },
     "execution_count": 15,
     "metadata": {},
     "output_type": "execute_result"
    }
   ],
   "source": [
    "# 字串加減乘除\n",
    "\n",
    "essentials * 10"
   ]
  },
  {
   "cell_type": "code",
   "execution_count": 16,
   "metadata": {},
   "outputs": [
    {
     "data": {
      "text/plain": [
       "'10'"
      ]
     },
     "execution_count": 16,
     "metadata": {},
     "output_type": "execute_result"
    }
   ],
   "source": [
    "# 數字變字串\n",
    "\n",
    "a = 10\n",
    "str(a)"
   ]
  },
  {
   "cell_type": "code",
   "execution_count": 17,
   "metadata": {},
   "outputs": [
    {
     "name": "stdout",
     "output_type": "stream",
     "text": [
      "int   : 30\n",
      "float : 30.0\n"
     ]
    }
   ],
   "source": [
    "# 字串轉其他型態\n",
    "b='30'\n",
    "print('int   :', int(b))\n",
    "print('float :', float(b))"
   ]
  },
  {
   "cell_type": "code",
   "execution_count": null,
   "metadata": {},
   "outputs": [],
   "source": []
  },
  {
   "cell_type": "markdown",
   "metadata": {},
   "source": [
    "# 資料型態"
   ]
  },
  {
   "cell_type": "code",
   "execution_count": 18,
   "metadata": {},
   "outputs": [
    {
     "name": "stdout",
     "output_type": "stream",
     "text": [
      "<class 'int'>\n",
      "<class 'float'>\n",
      "<class 'str'>\n"
     ]
    }
   ],
   "source": [
    "print(type(1))\n",
    "print(type(1.0))\n",
    "print(type(\"1\"))"
   ]
  },
  {
   "cell_type": "markdown",
   "metadata": {},
   "source": [
    "# 資料型態轉換"
   ]
  },
  {
   "cell_type": "code",
   "execution_count": 19,
   "metadata": {},
   "outputs": [
    {
     "name": "stdout",
     "output_type": "stream",
     "text": [
      "float ->  1.1\n"
     ]
    },
    {
     "ename": "ValueError",
     "evalue": "invalid literal for int() with base 10: '1.1'",
     "output_type": "error",
     "traceback": [
      "\u001b[1;31m---------------------------------------------------------------------------\u001b[0m",
      "\u001b[1;31mValueError\u001b[0m                                Traceback (most recent call last)",
      "Cell \u001b[1;32mIn[19], line 4\u001b[0m\n\u001b[0;32m      1\u001b[0m data \u001b[38;5;241m=\u001b[39m \u001b[38;5;124m\"\u001b[39m\u001b[38;5;124m1.1\u001b[39m\u001b[38;5;124m\"\u001b[39m\n\u001b[0;32m      3\u001b[0m \u001b[38;5;28mprint\u001b[39m(\u001b[38;5;124m\"\u001b[39m\u001b[38;5;124mfloat -> \u001b[39m\u001b[38;5;124m\"\u001b[39m, \u001b[38;5;28mfloat\u001b[39m(data)) \n\u001b[1;32m----> 4\u001b[0m \u001b[38;5;28mprint\u001b[39m(\u001b[38;5;124m\"\u001b[39m\u001b[38;5;124mint -> \u001b[39m\u001b[38;5;124m\"\u001b[39m, \u001b[38;5;28mint\u001b[39m(data))\n",
      "\u001b[1;31mValueError\u001b[0m: invalid literal for int() with base 10: '1.1'"
     ]
    }
   ],
   "source": [
    "data = \"1.1\"\n",
    "\n",
    "print(\"float -> \", float(data)) \n",
    "print(\"int -> \", int(data)) "
   ]
  },
  {
   "cell_type": "code",
   "execution_count": 20,
   "metadata": {},
   "outputs": [
    {
     "ename": "ValueError",
     "evalue": "could not convert string to float: 'a'",
     "output_type": "error",
     "traceback": [
      "\u001b[1;31m---------------------------------------------------------------------------\u001b[0m",
      "\u001b[1;31mValueError\u001b[0m                                Traceback (most recent call last)",
      "Cell \u001b[1;32mIn[20], line 3\u001b[0m\n\u001b[0;32m      1\u001b[0m data \u001b[38;5;241m=\u001b[39m \u001b[38;5;124m\"\u001b[39m\u001b[38;5;124ma\u001b[39m\u001b[38;5;124m\"\u001b[39m\n\u001b[1;32m----> 3\u001b[0m \u001b[38;5;28mprint\u001b[39m(\u001b[38;5;124m\"\u001b[39m\u001b[38;5;124mfloat -> \u001b[39m\u001b[38;5;124m\"\u001b[39m, \u001b[38;5;28mfloat\u001b[39m(data))\n",
      "\u001b[1;31mValueError\u001b[0m: could not convert string to float: 'a'"
     ]
    }
   ],
   "source": [
    "data = \"a\"\n",
    "\n",
    "print(\"float -> \", float(data)) "
   ]
  },
  {
   "cell_type": "markdown",
   "metadata": {},
   "source": [
    "# Exception  例外處理\n"
   ]
  },
  {
   "cell_type": "code",
   "execution_count": 21,
   "metadata": {},
   "outputs": [
    {
     "name": "stdout",
     "output_type": "stream",
     "text": [
      "無法轉換\n"
     ]
    }
   ],
   "source": [
    "try:\n",
    "    data = \"a\"\n",
    "    print(\"float -> \", float(data)) \n",
    "except:\n",
    "    print(\"無法轉換\") "
   ]
  },
  {
   "cell_type": "code",
   "execution_count": null,
   "metadata": {},
   "outputs": [],
   "source": []
  },
  {
   "cell_type": "markdown",
   "metadata": {},
   "source": [
    "# 小實做：黃金分割"
   ]
  },
  {
   "cell_type": "code",
   "execution_count": 22,
   "metadata": {},
   "outputs": [],
   "source": [
    "# 在作黃金分割時，我們一定要給的資訊\n",
    "high_point = 32.5\n",
    "low_point = 30.835"
   ]
  },
  {
   "cell_type": "code",
   "execution_count": 23,
   "metadata": {},
   "outputs": [],
   "source": [
    "# 邏輯組合\n",
    "diff = high_point - low_point\n",
    "\n",
    "level_5 = high_point - 0.236 * diff\n",
    "level_4 = high_point - 0.382 * diff\n",
    "level_3 = high_point - 0.5 * diff\n",
    "level_2 = high_point - 0.618 * diff\n",
    "level_1 = high_point - 0.786 * diff"
   ]
  },
  {
   "cell_type": "code",
   "execution_count": 24,
   "metadata": {},
   "outputs": [
    {
     "name": "stdout",
     "output_type": "stream",
     "text": [
      "高點 ->  32.5\n",
      "關卡 5 ->  32.10706\n",
      "關卡 4 ->  31.863970000000002\n",
      "關卡 3 ->  31.6675\n",
      "關卡 2 ->  31.47103\n",
      "關卡 1 ->  31.19131\n",
      "低點 ->  30.835\n"
     ]
    }
   ],
   "source": [
    "# 輸出什麼\n",
    "\n",
    "print('高點 -> ', high_point)\n",
    "print('關卡 5 -> ', level_5)\n",
    "print('關卡 4 -> ', level_4)\n",
    "print('關卡 3 -> ', level_3)\n",
    "print('關卡 2 -> ', level_2)\n",
    "print('關卡 1 -> ', level_1)\n",
    "print('低點 -> ', low_point)"
   ]
  },
  {
   "cell_type": "markdown",
   "metadata": {
    "collapsed": true,
    "jupyter": {
     "outputs_hidden": true
    }
   },
   "source": [
    "# 自定函式 (Functions)"
   ]
  },
  {
   "cell_type": "code",
   "execution_count": 25,
   "metadata": {},
   "outputs": [],
   "source": [
    "# def function\n",
    "def fibonacci(high_point, low_point): \n",
    "    # 邏輯組合\n",
    "    diff = high_point - low_point\n",
    "    \n",
    "    level_5 = high_point - 0.236 * diff\n",
    "    level_4 = high_point - 0.382 * diff\n",
    "    level_3 = high_point - 0.5 * diff\n",
    "    level_2 = high_point - 0.618 * diff\n",
    "    level_1 = high_point - 0.786 * diff\n",
    "    \n",
    "    # 輸出什麼\n",
    "    print('高點 -> ', high_point)\n",
    "    print('關卡 5 -> ', level_5)\n",
    "    print('關卡 4 -> ', level_4)\n",
    "    print('關卡 3 -> ', level_3)\n",
    "    print('關卡 2 -> ', level_2)\n",
    "    print('關卡 1 -> ', level_1)\n",
    "    print('低點 -> ', low_point)\n",
    "    "
   ]
  },
  {
   "cell_type": "code",
   "execution_count": 26,
   "metadata": {},
   "outputs": [
    {
     "name": "stdout",
     "output_type": "stream",
     "text": [
      "高點 ->  4752.53\n",
      "關卡 5 ->  4191.5462\n",
      "關卡 4 ->  3844.4969\n",
      "關卡 3 ->  3564.005\n",
      "關卡 2 ->  3283.5131\n",
      "關卡 1 ->  2884.1687\n",
      "低點 ->  2375.48\n"
     ]
    }
   ],
   "source": [
    "fibonacci(4752.53, 2375.48)"
   ]
  },
  {
   "cell_type": "code",
   "execution_count": 27,
   "metadata": {},
   "outputs": [
    {
     "name": "stdout",
     "output_type": "stream",
     "text": [
      "高點 ->  4764\n",
      "關卡 5 ->  3753.212\n",
      "關卡 4 ->  3127.8940000000002\n",
      "關卡 3 ->  2622.5\n",
      "關卡 2 ->  2117.106\n",
      "關卡 1 ->  1397.562\n",
      "低點 ->  481\n"
     ]
    }
   ],
   "source": [
    "fibonacci(4764, 481)"
   ]
  },
  {
   "cell_type": "code",
   "execution_count": null,
   "metadata": {},
   "outputs": [],
   "source": []
  },
  {
   "cell_type": "markdown",
   "metadata": {},
   "source": [
    "### 預設輸入值"
   ]
  },
  {
   "cell_type": "code",
   "execution_count": 28,
   "metadata": {},
   "outputs": [],
   "source": [
    "def printValue(x = \"Nothing input\"): \n",
    "    print(\"You input : \", x)\n",
    "    return x"
   ]
  },
  {
   "cell_type": "code",
   "execution_count": 29,
   "metadata": {},
   "outputs": [
    {
     "name": "stdout",
     "output_type": "stream",
     "text": [
      "You input :  Nothing input\n"
     ]
    },
    {
     "data": {
      "text/plain": [
       "'Nothing input'"
      ]
     },
     "execution_count": 29,
     "metadata": {},
     "output_type": "execute_result"
    }
   ],
   "source": [
    "printValue()"
   ]
  },
  {
   "cell_type": "code",
   "execution_count": 30,
   "metadata": {},
   "outputs": [
    {
     "name": "stdout",
     "output_type": "stream",
     "text": [
      "You input :  32423\n"
     ]
    },
    {
     "data": {
      "text/plain": [
       "32423"
      ]
     },
     "execution_count": 30,
     "metadata": {},
     "output_type": "execute_result"
    }
   ],
   "source": [
    "printValue(32423)"
   ]
  },
  {
   "cell_type": "markdown",
   "metadata": {},
   "source": [
    "### lambda function"
   ]
  },
  {
   "cell_type": "code",
   "execution_count": 31,
   "metadata": {},
   "outputs": [
    {
     "data": {
      "text/plain": [
       "16"
      ]
     },
     "execution_count": 31,
     "metadata": {},
     "output_type": "execute_result"
    }
   ],
   "source": [
    "lambdaFunc = lambda x: x**2\n",
    "lambdaFunc(4)"
   ]
  },
  {
   "cell_type": "code",
   "execution_count": 32,
   "metadata": {},
   "outputs": [
    {
     "data": {
      "text/plain": [
       "5"
      ]
     },
     "execution_count": 32,
     "metadata": {},
     "output_type": "execute_result"
    }
   ],
   "source": [
    "MySum = lambda x, y: x + y\n",
    "MySum(3,2)"
   ]
  },
  {
   "cell_type": "code",
   "execution_count": null,
   "metadata": {},
   "outputs": [],
   "source": []
  },
  {
   "cell_type": "markdown",
   "metadata": {},
   "source": [
    "# 字典 dict "
   ]
  },
  {
   "cell_type": "code",
   "execution_count": 33,
   "metadata": {},
   "outputs": [],
   "source": [
    "stock_maplist = {\n",
    "    '2330': '台積電',\n",
    "    '2317': \"鴻海\",\n",
    "    \"2309\": \"友達\"\n",
    "}"
   ]
  },
  {
   "cell_type": "code",
   "execution_count": 34,
   "metadata": {},
   "outputs": [
    {
     "data": {
      "text/plain": [
       "'台積電'"
      ]
     },
     "execution_count": 34,
     "metadata": {},
     "output_type": "execute_result"
    }
   ],
   "source": [
    "stock_maplist['2330']"
   ]
  },
  {
   "cell_type": "code",
   "execution_count": 35,
   "metadata": {},
   "outputs": [
    {
     "data": {
      "text/plain": [
       "dict_keys(['2330', '2317', '2309'])"
      ]
     },
     "execution_count": 35,
     "metadata": {},
     "output_type": "execute_result"
    }
   ],
   "source": [
    "stock_maplist.keys()"
   ]
  },
  {
   "cell_type": "code",
   "execution_count": 36,
   "metadata": {},
   "outputs": [
    {
     "data": {
      "text/plain": [
       "dict_values(['台積電', '鴻海', '友達'])"
      ]
     },
     "execution_count": 36,
     "metadata": {},
     "output_type": "execute_result"
    }
   ],
   "source": [
    "stock_maplist.values()"
   ]
  },
  {
   "cell_type": "code",
   "execution_count": null,
   "metadata": {},
   "outputs": [],
   "source": []
  },
  {
   "cell_type": "markdown",
   "metadata": {},
   "source": [
    "# 列表(list) 與 元組 (tuple)"
   ]
  },
  {
   "cell_type": "code",
   "execution_count": 37,
   "metadata": {},
   "outputs": [
    {
     "data": {
      "text/plain": [
       "['Jam', 'Mary', 'Bob', 'Patrick', 'Hank']"
      ]
     },
     "execution_count": 37,
     "metadata": {},
     "output_type": "execute_result"
    }
   ],
   "source": [
    "student_names = [\"Jam\", \"Mary\", \"Bob\", \"Patrick\", \"Hank\"]\n",
    "student_names"
   ]
  },
  {
   "cell_type": "code",
   "execution_count": 38,
   "metadata": {},
   "outputs": [
    {
     "data": {
      "text/plain": [
       "'Jam'"
      ]
     },
     "execution_count": 38,
     "metadata": {},
     "output_type": "execute_result"
    }
   ],
   "source": [
    "student_names[0]"
   ]
  },
  {
   "cell_type": "code",
   "execution_count": 39,
   "metadata": {},
   "outputs": [
    {
     "data": {
      "text/plain": [
       "['Jam', 'Mary', 'Bob']"
      ]
     },
     "execution_count": 39,
     "metadata": {},
     "output_type": "execute_result"
    }
   ],
   "source": [
    "student_names[:3]"
   ]
  },
  {
   "cell_type": "code",
   "execution_count": 40,
   "metadata": {},
   "outputs": [
    {
     "data": {
      "text/plain": [
       "'Hank'"
      ]
     },
     "execution_count": 40,
     "metadata": {},
     "output_type": "execute_result"
    }
   ],
   "source": [
    "student_names[-1]"
   ]
  },
  {
   "cell_type": "code",
   "execution_count": 41,
   "metadata": {},
   "outputs": [
    {
     "data": {
      "text/plain": [
       "('A01', 'A02', 'A03', 'A04', 'A05')"
      ]
     },
     "execution_count": 41,
     "metadata": {},
     "output_type": "execute_result"
    }
   ],
   "source": [
    "student_numbers = (\"A01\", \"A02\", \"A03\", \"A04\", \"A05\")\n",
    "student_numbers"
   ]
  },
  {
   "cell_type": "code",
   "execution_count": 42,
   "metadata": {},
   "outputs": [
    {
     "name": "stdout",
     "output_type": "stream",
     "text": [
      "A01\n",
      "('A01', 'A02', 'A03')\n",
      "A05\n"
     ]
    }
   ],
   "source": [
    "print(student_numbers[0])\n",
    "print(student_numbers[:3])\n",
    "print(student_numbers[-1])"
   ]
  },
  {
   "cell_type": "markdown",
   "metadata": {},
   "source": [
    "差在哪裡？"
   ]
  },
  {
   "cell_type": "code",
   "execution_count": 43,
   "metadata": {},
   "outputs": [
    {
     "data": {
      "text/plain": [
       "['Alen', 'Mary', 'Bob', 'Patrick', 'Hank']"
      ]
     },
     "execution_count": 43,
     "metadata": {},
     "output_type": "execute_result"
    }
   ],
   "source": [
    "student_names[0] = 'Alen'\n",
    "student_names"
   ]
  },
  {
   "cell_type": "code",
   "execution_count": 44,
   "metadata": {},
   "outputs": [
    {
     "ename": "TypeError",
     "evalue": "'tuple' object does not support item assignment",
     "output_type": "error",
     "traceback": [
      "\u001b[1;31m---------------------------------------------------------------------------\u001b[0m",
      "\u001b[1;31mTypeError\u001b[0m                                 Traceback (most recent call last)",
      "Cell \u001b[1;32mIn[44], line 1\u001b[0m\n\u001b[1;32m----> 1\u001b[0m student_numbers[\u001b[38;5;241m0\u001b[39m] \u001b[38;5;241m=\u001b[39m \u001b[38;5;124m'\u001b[39m\u001b[38;5;124mB01\u001b[39m\u001b[38;5;124m'\u001b[39m\n\u001b[0;32m      2\u001b[0m student_numbers\n",
      "\u001b[1;31mTypeError\u001b[0m: 'tuple' object does not support item assignment"
     ]
    }
   ],
   "source": [
    "student_numbers[0] = 'B01'\n",
    "student_numbers"
   ]
  },
  {
   "cell_type": "code",
   "execution_count": null,
   "metadata": {},
   "outputs": [],
   "source": []
  },
  {
   "cell_type": "markdown",
   "metadata": {},
   "source": [
    "# 邏輯判斷 - if else"
   ]
  },
  {
   "cell_type": "code",
   "execution_count": 45,
   "metadata": {},
   "outputs": [
    {
     "name": "stdout",
     "output_type": "stream",
     "text": [
      "A != B\n"
     ]
    }
   ],
   "source": [
    "A = 3\n",
    "B = 2\n",
    "\n",
    "if A == B:\n",
    "    print('A = B')\n",
    "else:\n",
    "    print('A != B')"
   ]
  },
  {
   "cell_type": "code",
   "execution_count": 46,
   "metadata": {},
   "outputs": [
    {
     "name": "stdout",
     "output_type": "stream",
     "text": [
      "看來有很大進步的空間\n"
     ]
    }
   ],
   "source": [
    "# 巢狀條件判斷 if-elif-else\n",
    "\n",
    "score = 59\n",
    "if 80 < score <= 100:\n",
    "    print(\"太聰明了\")\n",
    "elif 60 < score <= 80:\n",
    "    print(\"有進步的空間\")\n",
    "elif 40 < score <= 60:\n",
    "    print(\"看來有很大進步的空間\")  \n",
    "elif score <= 40:\n",
    "    print(\"可以打掉重練了\")\n",
    "else:\n",
    "    print(\"神一般的等級\")"
   ]
  },
  {
   "cell_type": "markdown",
   "metadata": {},
   "source": [
    "# 持續處理 - for 迴圈"
   ]
  },
  {
   "cell_type": "code",
   "execution_count": 47,
   "metadata": {
    "scrolled": true
   },
   "outputs": [
    {
     "name": "stdout",
     "output_type": "stream",
     "text": [
      "0\n",
      "1\n",
      "2\n",
      "3\n",
      "4\n",
      "5\n",
      "6\n",
      "7\n",
      "8\n",
      "9\n"
     ]
    }
   ],
   "source": [
    "# 從 0印出來到 9\n",
    "for i in range(10):\n",
    "    print(i)"
   ]
  },
  {
   "cell_type": "code",
   "execution_count": 48,
   "metadata": {},
   "outputs": [
    {
     "name": "stdout",
     "output_type": "stream",
     "text": [
      "班上的學生有： Jam\n",
      "班上的學生有： Mary\n",
      "班上的學生有： Bob\n",
      "班上的學生有： Patrick\n",
      "班上的學生有： John\n"
     ]
    }
   ],
   "source": [
    "student_names = [\"Jam\", \"Mary\", \"Bob\", \"Patrick\", \"John\"]\n",
    "for name in student_names:\n",
    "    print(\"班上的學生有：\",name)"
   ]
  },
  {
   "cell_type": "code",
   "execution_count": 49,
   "metadata": {},
   "outputs": [
    {
     "name": "stdout",
     "output_type": "stream",
     "text": [
      "班上的學生有： Jam   ，學號是 0\n",
      "班上的學生有： Mary   ，學號是 1\n",
      "班上的學生有： Bob   ，學號是 2\n",
      "班上的學生有： Patrick   ，學號是 3\n",
      "班上的學生有： John   ，學號是 4\n"
     ]
    }
   ],
   "source": [
    "for idx, name in enumerate(student_names):\n",
    "    print(\"班上的學生有：\",name,\"  ，學號是\",idx)"
   ]
  },
  {
   "cell_type": "markdown",
   "metadata": {},
   "source": [
    "# break 與 continue"
   ]
  },
  {
   "cell_type": "code",
   "execution_count": 50,
   "metadata": {},
   "outputs": [
    {
     "name": "stdout",
     "output_type": "stream",
     "text": [
      "0\n",
      "1\n",
      "2\n",
      "3\n",
      "4\n"
     ]
    }
   ],
   "source": [
    "for i in range(20):\n",
    "    if i == 5:\n",
    "        break\n",
    "    print(i)"
   ]
  },
  {
   "cell_type": "code",
   "execution_count": 51,
   "metadata": {},
   "outputs": [
    {
     "name": "stdout",
     "output_type": "stream",
     "text": [
      "0\n",
      "1\n",
      "2\n",
      "3\n",
      "4\n",
      "6\n",
      "7\n",
      "8\n",
      "9\n",
      "10\n",
      "11\n",
      "12\n",
      "13\n",
      "14\n",
      "15\n",
      "16\n",
      "17\n",
      "18\n",
      "19\n"
     ]
    }
   ],
   "source": [
    "for i in range(20):\n",
    "    if i == 5:\n",
    "        continue\n",
    "    print(i)"
   ]
  },
  {
   "cell_type": "code",
   "execution_count": null,
   "metadata": {},
   "outputs": [],
   "source": []
  },
  {
   "cell_type": "markdown",
   "metadata": {},
   "source": [
    "# 套件"
   ]
  },
  {
   "cell_type": "markdown",
   "metadata": {},
   "source": [
    "如果發生  No module named 'xxx'，如下面所示 :\n",
    "\n",
    "```\n",
    "---------------------------------------------------------------------------\n",
    "ModuleNotFoundError                       Traceback (most recent call last)\n",
    "Cell In[1], line 1\n",
    "----> 1 import pandas\n",
    "\n",
    "ModuleNotFoundError: No module named 'pandas'\n",
    "```\n",
    "\n",
    "那我們就需要安裝該套件:\n",
    "\n",
    "```\n",
    "pip install pandas\n",
    "```"
   ]
  },
  {
   "cell_type": "code",
   "execution_count": 52,
   "metadata": {},
   "outputs": [
    {
     "name": "stdout",
     "output_type": "stream",
     "text": [
      "Looking in indexes: https://pypi.org/simple, https://pypi.ngc.nvidia.com\n",
      "Requirement already satisfied: pandas in c:\\users\\jeffg\\anaconda3\\envs\\fin-ins\\lib\\site-packages (2.2.3)\n",
      "Requirement already satisfied: numpy>=1.23.2 in c:\\users\\jeffg\\appdata\\roaming\\python\\python311\\site-packages (from pandas) (1.26.4)\n",
      "Requirement already satisfied: python-dateutil>=2.8.2 in c:\\users\\jeffg\\appdata\\roaming\\python\\python311\\site-packages (from pandas) (2.8.2)\n",
      "Requirement already satisfied: pytz>=2020.1 in c:\\users\\jeffg\\appdata\\roaming\\python\\python311\\site-packages (from pandas) (2023.3)\n",
      "Requirement already satisfied: tzdata>=2022.7 in c:\\users\\jeffg\\appdata\\roaming\\python\\python311\\site-packages (from pandas) (2023.3)\n",
      "Requirement already satisfied: six>=1.5 in c:\\users\\jeffg\\appdata\\roaming\\python\\python311\\site-packages (from python-dateutil>=2.8.2->pandas) (1.16.0)\n"
     ]
    },
    {
     "name": "stderr",
     "output_type": "stream",
     "text": [
      "\n",
      "[notice] A new release of pip is available: 23.1.2 -> 24.3.1\n",
      "[notice] To update, run: python.exe -m pip install --upgrade pip\n"
     ]
    }
   ],
   "source": [
    "# 在 jupyter 要記得加上 ! 號\n",
    "!pip install pandas"
   ]
  },
  {
   "cell_type": "code",
   "execution_count": 53,
   "metadata": {},
   "outputs": [],
   "source": [
    "import pandas"
   ]
  },
  {
   "cell_type": "markdown",
   "metadata": {},
   "source": [
    "### 讀取 excel/ csv 檔案"
   ]
  },
  {
   "cell_type": "code",
   "execution_count": 54,
   "metadata": {},
   "outputs": [],
   "source": [
    "price_data = pandas.read_csv('./price-data.txt', encoding='cp950')"
   ]
  },
  {
   "cell_type": "code",
   "execution_count": 55,
   "metadata": {},
   "outputs": [
    {
     "data": {
      "text/html": [
       "<div>\n",
       "<style scoped>\n",
       "    .dataframe tbody tr th:only-of-type {\n",
       "        vertical-align: middle;\n",
       "    }\n",
       "\n",
       "    .dataframe tbody tr th {\n",
       "        vertical-align: top;\n",
       "    }\n",
       "\n",
       "    .dataframe thead th {\n",
       "        text-align: right;\n",
       "    }\n",
       "</style>\n",
       "<table border=\"1\" class=\"dataframe\">\n",
       "  <thead>\n",
       "    <tr style=\"text-align: right;\">\n",
       "      <th></th>\n",
       "      <th>證券代碼</th>\n",
       "      <th>簡稱</th>\n",
       "      <th>TSE新產業_名稱</th>\n",
       "      <th>年月日</th>\n",
       "      <th>報酬率％</th>\n",
       "      <th>市值(百萬元)</th>\n",
       "    </tr>\n",
       "  </thead>\n",
       "  <tbody>\n",
       "    <tr>\n",
       "      <th>0</th>\n",
       "      <td>1216</td>\n",
       "      <td>統一</td>\n",
       "      <td>食品工業</td>\n",
       "      <td>20140102</td>\n",
       "      <td>0.5587</td>\n",
       "      <td>278327</td>\n",
       "    </tr>\n",
       "    <tr>\n",
       "      <th>1</th>\n",
       "      <td>2882</td>\n",
       "      <td>國泰金</td>\n",
       "      <td>金融業</td>\n",
       "      <td>20140102</td>\n",
       "      <td>1.7617</td>\n",
       "      <td>587479</td>\n",
       "    </tr>\n",
       "    <tr>\n",
       "      <th>2</th>\n",
       "      <td>2013</td>\n",
       "      <td>中鋼構</td>\n",
       "      <td>鋼鐵工業</td>\n",
       "      <td>20140102</td>\n",
       "      <td>-0.5682</td>\n",
       "      <td>7000</td>\n",
       "    </tr>\n",
       "    <tr>\n",
       "      <th>3</th>\n",
       "      <td>2303</td>\n",
       "      <td>聯電</td>\n",
       "      <td>半導體</td>\n",
       "      <td>20140102</td>\n",
       "      <td>-0.4049</td>\n",
       "      <td>156142</td>\n",
       "    </tr>\n",
       "    <tr>\n",
       "      <th>4</th>\n",
       "      <td>2412</td>\n",
       "      <td>中華電</td>\n",
       "      <td>通信網路業</td>\n",
       "      <td>20140102</td>\n",
       "      <td>-0.3222</td>\n",
       "      <td>719890</td>\n",
       "    </tr>\n",
       "    <tr>\n",
       "      <th>...</th>\n",
       "      <td>...</td>\n",
       "      <td>...</td>\n",
       "      <td>...</td>\n",
       "      <td>...</td>\n",
       "      <td>...</td>\n",
       "      <td>...</td>\n",
       "    </tr>\n",
       "    <tr>\n",
       "      <th>13260</th>\n",
       "      <td>1216</td>\n",
       "      <td>統一</td>\n",
       "      <td>食品工業</td>\n",
       "      <td>20241113</td>\n",
       "      <td>1.0465</td>\n",
       "      <td>493767</td>\n",
       "    </tr>\n",
       "    <tr>\n",
       "      <th>13261</th>\n",
       "      <td>2882</td>\n",
       "      <td>國泰金</td>\n",
       "      <td>金融業</td>\n",
       "      <td>20241113</td>\n",
       "      <td>-1.0370</td>\n",
       "      <td>979903</td>\n",
       "    </tr>\n",
       "    <tr>\n",
       "      <th>13262</th>\n",
       "      <td>2013</td>\n",
       "      <td>中鋼構</td>\n",
       "      <td>鋼鐵工業</td>\n",
       "      <td>20241113</td>\n",
       "      <td>-0.3774</td>\n",
       "      <td>10560</td>\n",
       "    </tr>\n",
       "    <tr>\n",
       "      <th>13263</th>\n",
       "      <td>2303</td>\n",
       "      <td>聯電</td>\n",
       "      <td>半導體</td>\n",
       "      <td>20241113</td>\n",
       "      <td>-0.6508</td>\n",
       "      <td>573771</td>\n",
       "    </tr>\n",
       "    <tr>\n",
       "      <th>13264</th>\n",
       "      <td>2412</td>\n",
       "      <td>中華電</td>\n",
       "      <td>通信網路業</td>\n",
       "      <td>20241113</td>\n",
       "      <td>0.8163</td>\n",
       "      <td>958045</td>\n",
       "    </tr>\n",
       "  </tbody>\n",
       "</table>\n",
       "<p>13265 rows × 6 columns</p>\n",
       "</div>"
      ],
      "text/plain": [
       "       證券代碼           簡稱 TSE新產業_名稱       年月日    報酬率％  市值(百萬元)\n",
       "0      1216  統一             食品工業    20140102  0.5587   278327\n",
       "1      2882   國泰金          金融業      20140102  1.7617   587479\n",
       "2      2013   中鋼構           鋼鐵工業    20140102 -0.5682     7000\n",
       "3      2303  聯電            半導體      20140102 -0.4049   156142\n",
       "4      2412   中華電            通信網路業  20140102 -0.3222   719890\n",
       "...     ...          ...       ...       ...     ...      ...\n",
       "13260  1216  統一             食品工業    20241113  1.0465   493767\n",
       "13261  2882   國泰金          金融業      20241113 -1.0370   979903\n",
       "13262  2013   中鋼構           鋼鐵工業    20241113 -0.3774    10560\n",
       "13263  2303  聯電            半導體      20241113 -0.6508   573771\n",
       "13264  2412   中華電            通信網路業  20241113  0.8163   958045\n",
       "\n",
       "[13265 rows x 6 columns]"
      ]
     },
     "execution_count": 55,
     "metadata": {},
     "output_type": "execute_result"
    }
   ],
   "source": [
    "price_data"
   ]
  },
  {
   "cell_type": "markdown",
   "metadata": {},
   "source": [
    "# 前幾筆資料"
   ]
  },
  {
   "cell_type": "code",
   "execution_count": 56,
   "metadata": {},
   "outputs": [
    {
     "data": {
      "text/html": [
       "<div>\n",
       "<style scoped>\n",
       "    .dataframe tbody tr th:only-of-type {\n",
       "        vertical-align: middle;\n",
       "    }\n",
       "\n",
       "    .dataframe tbody tr th {\n",
       "        vertical-align: top;\n",
       "    }\n",
       "\n",
       "    .dataframe thead th {\n",
       "        text-align: right;\n",
       "    }\n",
       "</style>\n",
       "<table border=\"1\" class=\"dataframe\">\n",
       "  <thead>\n",
       "    <tr style=\"text-align: right;\">\n",
       "      <th></th>\n",
       "      <th>證券代碼</th>\n",
       "      <th>簡稱</th>\n",
       "      <th>TSE新產業_名稱</th>\n",
       "      <th>年月日</th>\n",
       "      <th>報酬率％</th>\n",
       "      <th>市值(百萬元)</th>\n",
       "    </tr>\n",
       "  </thead>\n",
       "  <tbody>\n",
       "    <tr>\n",
       "      <th>0</th>\n",
       "      <td>1216</td>\n",
       "      <td>統一</td>\n",
       "      <td>食品工業</td>\n",
       "      <td>20140102</td>\n",
       "      <td>0.5587</td>\n",
       "      <td>278327</td>\n",
       "    </tr>\n",
       "    <tr>\n",
       "      <th>1</th>\n",
       "      <td>2882</td>\n",
       "      <td>國泰金</td>\n",
       "      <td>金融業</td>\n",
       "      <td>20140102</td>\n",
       "      <td>1.7617</td>\n",
       "      <td>587479</td>\n",
       "    </tr>\n",
       "    <tr>\n",
       "      <th>2</th>\n",
       "      <td>2013</td>\n",
       "      <td>中鋼構</td>\n",
       "      <td>鋼鐵工業</td>\n",
       "      <td>20140102</td>\n",
       "      <td>-0.5682</td>\n",
       "      <td>7000</td>\n",
       "    </tr>\n",
       "    <tr>\n",
       "      <th>3</th>\n",
       "      <td>2303</td>\n",
       "      <td>聯電</td>\n",
       "      <td>半導體</td>\n",
       "      <td>20140102</td>\n",
       "      <td>-0.4049</td>\n",
       "      <td>156142</td>\n",
       "    </tr>\n",
       "    <tr>\n",
       "      <th>4</th>\n",
       "      <td>2412</td>\n",
       "      <td>中華電</td>\n",
       "      <td>通信網路業</td>\n",
       "      <td>20140102</td>\n",
       "      <td>-0.3222</td>\n",
       "      <td>719890</td>\n",
       "    </tr>\n",
       "  </tbody>\n",
       "</table>\n",
       "</div>"
      ],
      "text/plain": [
       "   證券代碼           簡稱 TSE新產業_名稱       年月日    報酬率％  市值(百萬元)\n",
       "0  1216  統一             食品工業    20140102  0.5587   278327\n",
       "1  2882   國泰金          金融業      20140102  1.7617   587479\n",
       "2  2013   中鋼構           鋼鐵工業    20140102 -0.5682     7000\n",
       "3  2303  聯電            半導體      20140102 -0.4049   156142\n",
       "4  2412   中華電            通信網路業  20140102 -0.3222   719890"
      ]
     },
     "execution_count": 56,
     "metadata": {},
     "output_type": "execute_result"
    }
   ],
   "source": [
    "price_data.head()"
   ]
  },
  {
   "cell_type": "markdown",
   "metadata": {},
   "source": [
    "# 資料型態"
   ]
  },
  {
   "cell_type": "code",
   "execution_count": 57,
   "metadata": {},
   "outputs": [
    {
     "name": "stdout",
     "output_type": "stream",
     "text": [
      "<class 'pandas.core.frame.DataFrame'>\n",
      "RangeIndex: 13265 entries, 0 to 13264\n",
      "Data columns (total 6 columns):\n",
      " #   Column     Non-Null Count  Dtype  \n",
      "---  ------     --------------  -----  \n",
      " 0   證券代碼       13265 non-null  int64  \n",
      " 1   簡稱         13265 non-null  object \n",
      " 2   TSE新產業_名稱  13265 non-null  object \n",
      " 3   年月日        13265 non-null  int64  \n",
      " 4   報酬率％       13265 non-null  float64\n",
      " 5   市值(百萬元)    13265 non-null  int64  \n",
      "dtypes: float64(1), int64(3), object(2)\n",
      "memory usage: 621.9+ KB\n"
     ]
    }
   ],
   "source": [
    "price_data.info()"
   ]
  },
  {
   "cell_type": "markdown",
   "metadata": {},
   "source": [
    "# 找指定的欄位"
   ]
  },
  {
   "cell_type": "code",
   "execution_count": 58,
   "metadata": {
    "scrolled": true
   },
   "outputs": [
    {
     "data": {
      "text/plain": [
       "0         True\n",
       "1        False\n",
       "2        False\n",
       "3        False\n",
       "4        False\n",
       "         ...  \n",
       "13260     True\n",
       "13261    False\n",
       "13262    False\n",
       "13263    False\n",
       "13264    False\n",
       "Name: 證券代碼, Length: 13265, dtype: bool"
      ]
     },
     "execution_count": 58,
     "metadata": {},
     "output_type": "execute_result"
    }
   ],
   "source": [
    "price_data[\"證券代碼\"] == 1216"
   ]
  },
  {
   "cell_type": "code",
   "execution_count": 59,
   "metadata": {},
   "outputs": [
    {
     "data": {
      "text/html": [
       "<div>\n",
       "<style scoped>\n",
       "    .dataframe tbody tr th:only-of-type {\n",
       "        vertical-align: middle;\n",
       "    }\n",
       "\n",
       "    .dataframe tbody tr th {\n",
       "        vertical-align: top;\n",
       "    }\n",
       "\n",
       "    .dataframe thead th {\n",
       "        text-align: right;\n",
       "    }\n",
       "</style>\n",
       "<table border=\"1\" class=\"dataframe\">\n",
       "  <thead>\n",
       "    <tr style=\"text-align: right;\">\n",
       "      <th></th>\n",
       "      <th>證券代碼</th>\n",
       "      <th>簡稱</th>\n",
       "      <th>TSE新產業_名稱</th>\n",
       "      <th>年月日</th>\n",
       "      <th>報酬率％</th>\n",
       "      <th>市值(百萬元)</th>\n",
       "    </tr>\n",
       "  </thead>\n",
       "  <tbody>\n",
       "    <tr>\n",
       "      <th>0</th>\n",
       "      <td>1216</td>\n",
       "      <td>統一</td>\n",
       "      <td>食品工業</td>\n",
       "      <td>20140102</td>\n",
       "      <td>0.5587</td>\n",
       "      <td>278327</td>\n",
       "    </tr>\n",
       "    <tr>\n",
       "      <th>5</th>\n",
       "      <td>1216</td>\n",
       "      <td>統一</td>\n",
       "      <td>食品工業</td>\n",
       "      <td>20140103</td>\n",
       "      <td>-0.9259</td>\n",
       "      <td>275750</td>\n",
       "    </tr>\n",
       "    <tr>\n",
       "      <th>10</th>\n",
       "      <td>1216</td>\n",
       "      <td>統一</td>\n",
       "      <td>食品工業</td>\n",
       "      <td>20140106</td>\n",
       "      <td>0.0000</td>\n",
       "      <td>275750</td>\n",
       "    </tr>\n",
       "    <tr>\n",
       "      <th>15</th>\n",
       "      <td>1216</td>\n",
       "      <td>統一</td>\n",
       "      <td>食品工業</td>\n",
       "      <td>20140107</td>\n",
       "      <td>-0.1869</td>\n",
       "      <td>275235</td>\n",
       "    </tr>\n",
       "    <tr>\n",
       "      <th>20</th>\n",
       "      <td>1216</td>\n",
       "      <td>統一</td>\n",
       "      <td>食品工業</td>\n",
       "      <td>20140108</td>\n",
       "      <td>-0.3745</td>\n",
       "      <td>274204</td>\n",
       "    </tr>\n",
       "    <tr>\n",
       "      <th>...</th>\n",
       "      <td>...</td>\n",
       "      <td>...</td>\n",
       "      <td>...</td>\n",
       "      <td>...</td>\n",
       "      <td>...</td>\n",
       "      <td>...</td>\n",
       "    </tr>\n",
       "    <tr>\n",
       "      <th>13240</th>\n",
       "      <td>1216</td>\n",
       "      <td>統一</td>\n",
       "      <td>食品工業</td>\n",
       "      <td>20241107</td>\n",
       "      <td>-0.5637</td>\n",
       "      <td>501154</td>\n",
       "    </tr>\n",
       "    <tr>\n",
       "      <th>13245</th>\n",
       "      <td>1216</td>\n",
       "      <td>統一</td>\n",
       "      <td>食品工業</td>\n",
       "      <td>20241108</td>\n",
       "      <td>-1.0204</td>\n",
       "      <td>496040</td>\n",
       "    </tr>\n",
       "    <tr>\n",
       "      <th>13250</th>\n",
       "      <td>1216</td>\n",
       "      <td>統一</td>\n",
       "      <td>食品工業</td>\n",
       "      <td>20241111</td>\n",
       "      <td>-0.3436</td>\n",
       "      <td>494335</td>\n",
       "    </tr>\n",
       "    <tr>\n",
       "      <th>13255</th>\n",
       "      <td>1216</td>\n",
       "      <td>統一</td>\n",
       "      <td>食品工業</td>\n",
       "      <td>20241112</td>\n",
       "      <td>-1.1494</td>\n",
       "      <td>488653</td>\n",
       "    </tr>\n",
       "    <tr>\n",
       "      <th>13260</th>\n",
       "      <td>1216</td>\n",
       "      <td>統一</td>\n",
       "      <td>食品工業</td>\n",
       "      <td>20241113</td>\n",
       "      <td>1.0465</td>\n",
       "      <td>493767</td>\n",
       "    </tr>\n",
       "  </tbody>\n",
       "</table>\n",
       "<p>2653 rows × 6 columns</p>\n",
       "</div>"
      ],
      "text/plain": [
       "       證券代碼           簡稱 TSE新產業_名稱       年月日    報酬率％  市值(百萬元)\n",
       "0      1216  統一             食品工業    20140102  0.5587   278327\n",
       "5      1216  統一             食品工業    20140103 -0.9259   275750\n",
       "10     1216  統一             食品工業    20140106  0.0000   275750\n",
       "15     1216  統一             食品工業    20140107 -0.1869   275235\n",
       "20     1216  統一             食品工業    20140108 -0.3745   274204\n",
       "...     ...          ...       ...       ...     ...      ...\n",
       "13240  1216  統一             食品工業    20241107 -0.5637   501154\n",
       "13245  1216  統一             食品工業    20241108 -1.0204   496040\n",
       "13250  1216  統一             食品工業    20241111 -0.3436   494335\n",
       "13255  1216  統一             食品工業    20241112 -1.1494   488653\n",
       "13260  1216  統一             食品工業    20241113  1.0465   493767\n",
       "\n",
       "[2653 rows x 6 columns]"
      ]
     },
     "execution_count": 59,
     "metadata": {},
     "output_type": "execute_result"
    }
   ],
   "source": [
    "price_data[price_data[\"證券代碼\"] == 1216]"
   ]
  },
  {
   "cell_type": "markdown",
   "metadata": {},
   "source": [
    "### 找指定產業"
   ]
  },
  {
   "cell_type": "code",
   "execution_count": 60,
   "metadata": {},
   "outputs": [
    {
     "data": {
      "text/html": [
       "<div>\n",
       "<style scoped>\n",
       "    .dataframe tbody tr th:only-of-type {\n",
       "        vertical-align: middle;\n",
       "    }\n",
       "\n",
       "    .dataframe tbody tr th {\n",
       "        vertical-align: top;\n",
       "    }\n",
       "\n",
       "    .dataframe thead th {\n",
       "        text-align: right;\n",
       "    }\n",
       "</style>\n",
       "<table border=\"1\" class=\"dataframe\">\n",
       "  <thead>\n",
       "    <tr style=\"text-align: right;\">\n",
       "      <th></th>\n",
       "      <th>證券代碼</th>\n",
       "      <th>簡稱</th>\n",
       "      <th>TSE新產業_名稱</th>\n",
       "      <th>年月日</th>\n",
       "      <th>報酬率％</th>\n",
       "      <th>市值(百萬元)</th>\n",
       "    </tr>\n",
       "  </thead>\n",
       "  <tbody>\n",
       "  </tbody>\n",
       "</table>\n",
       "</div>"
      ],
      "text/plain": [
       "Empty DataFrame\n",
       "Columns: [證券代碼, 簡稱, TSE新產業_名稱, 年月日, 報酬率％, 市值(百萬元)]\n",
       "Index: []"
      ]
     },
     "execution_count": 60,
     "metadata": {},
     "output_type": "execute_result"
    }
   ],
   "source": [
    "# 怎麼沒有東西?\n",
    "price_data[price_data[\"TSE新產業_名稱\"] == \"食品工業\"]"
   ]
  },
  {
   "cell_type": "code",
   "execution_count": 61,
   "metadata": {},
   "outputs": [],
   "source": [
    "# 原來是有藏空白"
   ]
  },
  {
   "cell_type": "code",
   "execution_count": 62,
   "metadata": {},
   "outputs": [
    {
     "data": {
      "text/plain": [
       "array(['食品工業  ', '金融業    ', '鋼鐵工業  ', ..., '鋼鐵工業  ', '半導體    ', '通信網路業'],\n",
       "      dtype=object)"
      ]
     },
     "execution_count": 62,
     "metadata": {},
     "output_type": "execute_result"
    }
   ],
   "source": [
    "price_data[\"TSE新產業_名稱\"].values"
   ]
  },
  {
   "cell_type": "code",
   "execution_count": 63,
   "metadata": {},
   "outputs": [],
   "source": [
    "# 處理欄位中，每一筆資料"
   ]
  },
  {
   "cell_type": "code",
   "execution_count": 64,
   "metadata": {},
   "outputs": [],
   "source": [
    "# 新增一個欄位叫做 ind，並將 \"TSE新產業_名稱\"的字串空白清除\n",
    "\n",
    "price_data[\"ind\"] = price_data[\"TSE新產業_名稱\"].apply(lambda x: x.strip())"
   ]
  },
  {
   "cell_type": "code",
   "execution_count": 65,
   "metadata": {},
   "outputs": [
    {
     "data": {
      "text/html": [
       "<div>\n",
       "<style scoped>\n",
       "    .dataframe tbody tr th:only-of-type {\n",
       "        vertical-align: middle;\n",
       "    }\n",
       "\n",
       "    .dataframe tbody tr th {\n",
       "        vertical-align: top;\n",
       "    }\n",
       "\n",
       "    .dataframe thead th {\n",
       "        text-align: right;\n",
       "    }\n",
       "</style>\n",
       "<table border=\"1\" class=\"dataframe\">\n",
       "  <thead>\n",
       "    <tr style=\"text-align: right;\">\n",
       "      <th></th>\n",
       "      <th>證券代碼</th>\n",
       "      <th>簡稱</th>\n",
       "      <th>TSE新產業_名稱</th>\n",
       "      <th>年月日</th>\n",
       "      <th>報酬率％</th>\n",
       "      <th>市值(百萬元)</th>\n",
       "      <th>ind</th>\n",
       "    </tr>\n",
       "  </thead>\n",
       "  <tbody>\n",
       "    <tr>\n",
       "      <th>0</th>\n",
       "      <td>1216</td>\n",
       "      <td>統一</td>\n",
       "      <td>食品工業</td>\n",
       "      <td>20140102</td>\n",
       "      <td>0.5587</td>\n",
       "      <td>278327</td>\n",
       "      <td>食品工業</td>\n",
       "    </tr>\n",
       "    <tr>\n",
       "      <th>1</th>\n",
       "      <td>2882</td>\n",
       "      <td>國泰金</td>\n",
       "      <td>金融業</td>\n",
       "      <td>20140102</td>\n",
       "      <td>1.7617</td>\n",
       "      <td>587479</td>\n",
       "      <td>金融業</td>\n",
       "    </tr>\n",
       "    <tr>\n",
       "      <th>2</th>\n",
       "      <td>2013</td>\n",
       "      <td>中鋼構</td>\n",
       "      <td>鋼鐵工業</td>\n",
       "      <td>20140102</td>\n",
       "      <td>-0.5682</td>\n",
       "      <td>7000</td>\n",
       "      <td>鋼鐵工業</td>\n",
       "    </tr>\n",
       "    <tr>\n",
       "      <th>3</th>\n",
       "      <td>2303</td>\n",
       "      <td>聯電</td>\n",
       "      <td>半導體</td>\n",
       "      <td>20140102</td>\n",
       "      <td>-0.4049</td>\n",
       "      <td>156142</td>\n",
       "      <td>半導體</td>\n",
       "    </tr>\n",
       "    <tr>\n",
       "      <th>4</th>\n",
       "      <td>2412</td>\n",
       "      <td>中華電</td>\n",
       "      <td>通信網路業</td>\n",
       "      <td>20140102</td>\n",
       "      <td>-0.3222</td>\n",
       "      <td>719890</td>\n",
       "      <td>通信網路業</td>\n",
       "    </tr>\n",
       "    <tr>\n",
       "      <th>...</th>\n",
       "      <td>...</td>\n",
       "      <td>...</td>\n",
       "      <td>...</td>\n",
       "      <td>...</td>\n",
       "      <td>...</td>\n",
       "      <td>...</td>\n",
       "      <td>...</td>\n",
       "    </tr>\n",
       "    <tr>\n",
       "      <th>13260</th>\n",
       "      <td>1216</td>\n",
       "      <td>統一</td>\n",
       "      <td>食品工業</td>\n",
       "      <td>20241113</td>\n",
       "      <td>1.0465</td>\n",
       "      <td>493767</td>\n",
       "      <td>食品工業</td>\n",
       "    </tr>\n",
       "    <tr>\n",
       "      <th>13261</th>\n",
       "      <td>2882</td>\n",
       "      <td>國泰金</td>\n",
       "      <td>金融業</td>\n",
       "      <td>20241113</td>\n",
       "      <td>-1.0370</td>\n",
       "      <td>979903</td>\n",
       "      <td>金融業</td>\n",
       "    </tr>\n",
       "    <tr>\n",
       "      <th>13262</th>\n",
       "      <td>2013</td>\n",
       "      <td>中鋼構</td>\n",
       "      <td>鋼鐵工業</td>\n",
       "      <td>20241113</td>\n",
       "      <td>-0.3774</td>\n",
       "      <td>10560</td>\n",
       "      <td>鋼鐵工業</td>\n",
       "    </tr>\n",
       "    <tr>\n",
       "      <th>13263</th>\n",
       "      <td>2303</td>\n",
       "      <td>聯電</td>\n",
       "      <td>半導體</td>\n",
       "      <td>20241113</td>\n",
       "      <td>-0.6508</td>\n",
       "      <td>573771</td>\n",
       "      <td>半導體</td>\n",
       "    </tr>\n",
       "    <tr>\n",
       "      <th>13264</th>\n",
       "      <td>2412</td>\n",
       "      <td>中華電</td>\n",
       "      <td>通信網路業</td>\n",
       "      <td>20241113</td>\n",
       "      <td>0.8163</td>\n",
       "      <td>958045</td>\n",
       "      <td>通信網路業</td>\n",
       "    </tr>\n",
       "  </tbody>\n",
       "</table>\n",
       "<p>13265 rows × 7 columns</p>\n",
       "</div>"
      ],
      "text/plain": [
       "       證券代碼           簡稱 TSE新產業_名稱       年月日    報酬率％  市值(百萬元)    ind\n",
       "0      1216  統一             食品工業    20140102  0.5587   278327   食品工業\n",
       "1      2882   國泰金          金融業      20140102  1.7617   587479    金融業\n",
       "2      2013   中鋼構           鋼鐵工業    20140102 -0.5682     7000   鋼鐵工業\n",
       "3      2303  聯電            半導體      20140102 -0.4049   156142    半導體\n",
       "4      2412   中華電            通信網路業  20140102 -0.3222   719890  通信網路業\n",
       "...     ...          ...       ...       ...     ...      ...    ...\n",
       "13260  1216  統一             食品工業    20241113  1.0465   493767   食品工業\n",
       "13261  2882   國泰金          金融業      20241113 -1.0370   979903    金融業\n",
       "13262  2013   中鋼構           鋼鐵工業    20241113 -0.3774    10560   鋼鐵工業\n",
       "13263  2303  聯電            半導體      20241113 -0.6508   573771    半導體\n",
       "13264  2412   中華電            通信網路業  20241113  0.8163   958045  通信網路業\n",
       "\n",
       "[13265 rows x 7 columns]"
      ]
     },
     "execution_count": 65,
     "metadata": {},
     "output_type": "execute_result"
    }
   ],
   "source": [
    "# 多了一個新欄位\n",
    "\n",
    "price_data"
   ]
  },
  {
   "cell_type": "code",
   "execution_count": 66,
   "metadata": {},
   "outputs": [
    {
     "data": {
      "text/html": [
       "<div>\n",
       "<style scoped>\n",
       "    .dataframe tbody tr th:only-of-type {\n",
       "        vertical-align: middle;\n",
       "    }\n",
       "\n",
       "    .dataframe tbody tr th {\n",
       "        vertical-align: top;\n",
       "    }\n",
       "\n",
       "    .dataframe thead th {\n",
       "        text-align: right;\n",
       "    }\n",
       "</style>\n",
       "<table border=\"1\" class=\"dataframe\">\n",
       "  <thead>\n",
       "    <tr style=\"text-align: right;\">\n",
       "      <th></th>\n",
       "      <th>證券代碼</th>\n",
       "      <th>簡稱</th>\n",
       "      <th>TSE新產業_名稱</th>\n",
       "      <th>年月日</th>\n",
       "      <th>報酬率％</th>\n",
       "      <th>市值(百萬元)</th>\n",
       "      <th>ind</th>\n",
       "    </tr>\n",
       "  </thead>\n",
       "  <tbody>\n",
       "    <tr>\n",
       "      <th>0</th>\n",
       "      <td>1216</td>\n",
       "      <td>統一</td>\n",
       "      <td>食品工業</td>\n",
       "      <td>20140102</td>\n",
       "      <td>0.5587</td>\n",
       "      <td>278327</td>\n",
       "      <td>食品工業</td>\n",
       "    </tr>\n",
       "    <tr>\n",
       "      <th>5</th>\n",
       "      <td>1216</td>\n",
       "      <td>統一</td>\n",
       "      <td>食品工業</td>\n",
       "      <td>20140103</td>\n",
       "      <td>-0.9259</td>\n",
       "      <td>275750</td>\n",
       "      <td>食品工業</td>\n",
       "    </tr>\n",
       "    <tr>\n",
       "      <th>10</th>\n",
       "      <td>1216</td>\n",
       "      <td>統一</td>\n",
       "      <td>食品工業</td>\n",
       "      <td>20140106</td>\n",
       "      <td>0.0000</td>\n",
       "      <td>275750</td>\n",
       "      <td>食品工業</td>\n",
       "    </tr>\n",
       "    <tr>\n",
       "      <th>15</th>\n",
       "      <td>1216</td>\n",
       "      <td>統一</td>\n",
       "      <td>食品工業</td>\n",
       "      <td>20140107</td>\n",
       "      <td>-0.1869</td>\n",
       "      <td>275235</td>\n",
       "      <td>食品工業</td>\n",
       "    </tr>\n",
       "    <tr>\n",
       "      <th>20</th>\n",
       "      <td>1216</td>\n",
       "      <td>統一</td>\n",
       "      <td>食品工業</td>\n",
       "      <td>20140108</td>\n",
       "      <td>-0.3745</td>\n",
       "      <td>274204</td>\n",
       "      <td>食品工業</td>\n",
       "    </tr>\n",
       "    <tr>\n",
       "      <th>...</th>\n",
       "      <td>...</td>\n",
       "      <td>...</td>\n",
       "      <td>...</td>\n",
       "      <td>...</td>\n",
       "      <td>...</td>\n",
       "      <td>...</td>\n",
       "      <td>...</td>\n",
       "    </tr>\n",
       "    <tr>\n",
       "      <th>13240</th>\n",
       "      <td>1216</td>\n",
       "      <td>統一</td>\n",
       "      <td>食品工業</td>\n",
       "      <td>20241107</td>\n",
       "      <td>-0.5637</td>\n",
       "      <td>501154</td>\n",
       "      <td>食品工業</td>\n",
       "    </tr>\n",
       "    <tr>\n",
       "      <th>13245</th>\n",
       "      <td>1216</td>\n",
       "      <td>統一</td>\n",
       "      <td>食品工業</td>\n",
       "      <td>20241108</td>\n",
       "      <td>-1.0204</td>\n",
       "      <td>496040</td>\n",
       "      <td>食品工業</td>\n",
       "    </tr>\n",
       "    <tr>\n",
       "      <th>13250</th>\n",
       "      <td>1216</td>\n",
       "      <td>統一</td>\n",
       "      <td>食品工業</td>\n",
       "      <td>20241111</td>\n",
       "      <td>-0.3436</td>\n",
       "      <td>494335</td>\n",
       "      <td>食品工業</td>\n",
       "    </tr>\n",
       "    <tr>\n",
       "      <th>13255</th>\n",
       "      <td>1216</td>\n",
       "      <td>統一</td>\n",
       "      <td>食品工業</td>\n",
       "      <td>20241112</td>\n",
       "      <td>-1.1494</td>\n",
       "      <td>488653</td>\n",
       "      <td>食品工業</td>\n",
       "    </tr>\n",
       "    <tr>\n",
       "      <th>13260</th>\n",
       "      <td>1216</td>\n",
       "      <td>統一</td>\n",
       "      <td>食品工業</td>\n",
       "      <td>20241113</td>\n",
       "      <td>1.0465</td>\n",
       "      <td>493767</td>\n",
       "      <td>食品工業</td>\n",
       "    </tr>\n",
       "  </tbody>\n",
       "</table>\n",
       "<p>2653 rows × 7 columns</p>\n",
       "</div>"
      ],
      "text/plain": [
       "       證券代碼           簡稱 TSE新產業_名稱       年月日    報酬率％  市值(百萬元)   ind\n",
       "0      1216  統一             食品工業    20140102  0.5587   278327  食品工業\n",
       "5      1216  統一             食品工業    20140103 -0.9259   275750  食品工業\n",
       "10     1216  統一             食品工業    20140106  0.0000   275750  食品工業\n",
       "15     1216  統一             食品工業    20140107 -0.1869   275235  食品工業\n",
       "20     1216  統一             食品工業    20140108 -0.3745   274204  食品工業\n",
       "...     ...          ...       ...       ...     ...      ...   ...\n",
       "13240  1216  統一             食品工業    20241107 -0.5637   501154  食品工業\n",
       "13245  1216  統一             食品工業    20241108 -1.0204   496040  食品工業\n",
       "13250  1216  統一             食品工業    20241111 -0.3436   494335  食品工業\n",
       "13255  1216  統一             食品工業    20241112 -1.1494   488653  食品工業\n",
       "13260  1216  統一             食品工業    20241113  1.0465   493767  食品工業\n",
       "\n",
       "[2653 rows x 7 columns]"
      ]
     },
     "execution_count": 66,
     "metadata": {},
     "output_type": "execute_result"
    }
   ],
   "source": [
    "# 正常了\n",
    "price_data[price_data[\"ind\"] == \"食品工業\"]"
   ]
  },
  {
   "cell_type": "code",
   "execution_count": null,
   "metadata": {},
   "outputs": [],
   "source": []
  },
  {
   "cell_type": "code",
   "execution_count": null,
   "metadata": {},
   "outputs": [],
   "source": []
  }
 ],
 "metadata": {
  "anaconda-cloud": {},
  "kernelspec": {
   "display_name": "Python 3 (ipykernel)",
   "language": "python",
   "name": "python3"
  },
  "language_info": {
   "codemirror_mode": {
    "name": "ipython",
    "version": 3
   },
   "file_extension": ".py",
   "mimetype": "text/x-python",
   "name": "python",
   "nbconvert_exporter": "python",
   "pygments_lexer": "ipython3",
   "version": "3.11.10"
  }
 },
 "nbformat": 4,
 "nbformat_minor": 4
}
