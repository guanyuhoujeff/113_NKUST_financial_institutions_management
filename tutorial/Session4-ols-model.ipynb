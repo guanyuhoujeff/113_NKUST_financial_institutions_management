{
 "cells": [
  {
   "cell_type": "markdown",
   "id": "0375d3f9-6b87-42ec-bb48-72d64a3d8d03",
   "metadata": {},
   "source": [
    "# 讀取資料"
   ]
  },
  {
   "cell_type": "code",
   "execution_count": null,
   "id": "86d2a34c-ded0-4964-a2d4-fbaee3ed7cac",
   "metadata": {},
   "outputs": [],
   "source": [
    "import pandas as pd\n",
    "import numpy as np"
   ]
  },
  {
   "cell_type": "code",
   "execution_count": null,
   "id": "455c7c85-b58f-4a14-86a1-fa3378c31580",
   "metadata": {},
   "outputs": [],
   "source": [
    "merge_data = pd ????? ('merge_data_fill_na.xlsx')"
   ]
  },
  {
   "cell_type": "code",
   "execution_count": null,
   "id": "852d5bf7-6455-4d25-b597-c74b3f8980c6",
   "metadata": {},
   "outputs": [],
   "source": [
    "col = ['ret', 'size_ln', 'op_exp_ln',\n",
    "       'ROA', 'ROE', 'op_pm', \n",
    "       'AT', 'FCF_sd', 'Lev', 'DY', 'TQ']"
   ]
  },
  {
   "cell_type": "code",
   "execution_count": null,
   "id": "eeea0fce-b852-4755-95fb-c5435642c3ba",
   "metadata": {},
   "outputs": [],
   "source": [
    "merge_data[\"size_ln\"] = merge_data[\"size\"].apply(np.log)\n",
    "merge_data[\"op_exp_ln\"] = merge_data[\"op_exp\"].apply(np.log)"
   ]
  },
  {
   "cell_type": "code",
   "execution_count": null,
   "id": "11382e08-acf3-4a2f-af23-897c8aba2ca5",
   "metadata": {},
   "outputs": [],
   "source": [
    "# 定義標準化函數\n",
    "def standardize(group):\n",
    "    return (group - group.mean()) / group.std()\n",
    "\n",
    "# 按股票代號標準化 FCF\n",
    "merge_data['FCF_sd'] = merge_data.groupby('code')['FCF'].transform(standardize)"
   ]
  },
  {
   "cell_type": "code",
   "execution_count": null,
   "id": "296f7838-f2ce-4ec4-a5f2-1ea502b3b064",
   "metadata": {},
   "outputs": [],
   "source": [
    "research_data = merge_data[col]\n",
    "research_data = research_data.dropna()"
   ]
  },
  {
   "cell_type": "code",
   "execution_count": null,
   "id": "ac68a51c-589c-4462-852c-ef38dbd3063c",
   "metadata": {},
   "outputs": [],
   "source": [
    "research_data"
   ]
  },
  {
   "cell_type": "markdown",
   "id": "1878a2c5-1cc4-404c-a1af-7a7759012eac",
   "metadata": {},
   "source": [
    "# 要跑模型的變數"
   ]
  },
  {
   "cell_type": "code",
   "execution_count": null,
   "id": "f51519e8-016b-4500-bb4b-61b4de8e747e",
   "metadata": {},
   "outputs": [],
   "source": [
    "# 應變數 Y\n",
    "y = research_data ??? \n",
    "\n",
    "# 自變數 X\n",
    "X = research_data[ ???? ]"
   ]
  },
  {
   "cell_type": "markdown",
   "id": "a6dd6be2-15aa-48d0-9129-a4c7af9e64c5",
   "metadata": {},
   "source": [
    "# 迴歸模型建立"
   ]
  },
  {
   "cell_type": "markdown",
   "id": "7aeff529-80cd-4685-826f-8f729e03ec78",
   "metadata": {},
   "source": [
    "https://www.statsmodels.org/dev/install.html"
   ]
  },
  {
   "cell_type": "code",
   "execution_count": null,
   "id": "cbebeecd-9c7d-4a31-910a-fde2b803e858",
   "metadata": {},
   "outputs": [],
   "source": [
    "!pip install statsmodels"
   ]
  },
  {
   "cell_type": "code",
   "execution_count": null,
   "id": "9b24d246-cd56-41a0-a3c0-e7721327e8f4",
   "metadata": {},
   "outputs": [],
   "source": [
    "import statsmodels.api as sm"
   ]
  },
  {
   "cell_type": "code",
   "execution_count": null,
   "id": "0406e9f3-6144-4585-81be-0cc1da1b358c",
   "metadata": {},
   "outputs": [],
   "source": [
    "## 建立迴歸模型\n",
    "model = sm.   ????  (y, sm.add_constant(X)) "
   ]
  },
  {
   "cell_type": "markdown",
   "id": "049aa8ad-2231-4b1d-bf84-1e62efb13e9e",
   "metadata": {},
   "source": [
    "Fit model"
   ]
  },
  {
   "cell_type": "code",
   "execution_count": null,
   "id": "86adcf52-119a-46e2-9d26-7f9c4000fa51",
   "metadata": {},
   "outputs": [],
   "source": [
    "result = model ??? "
   ]
  },
  {
   "cell_type": "markdown",
   "id": "fcc2545f-4064-4984-bc4d-a5e260905306",
   "metadata": {},
   "source": [
    "查看結果"
   ]
  },
  {
   "cell_type": "code",
   "execution_count": null,
   "id": "60d04736-eb52-44c8-b74b-33c63ae428f0",
   "metadata": {},
   "outputs": [],
   "source": [
    "result"
   ]
  },
  {
   "cell_type": "code",
   "execution_count": null,
   "id": "3169995e-08de-496d-8241-66835e5b4ac2",
   "metadata": {},
   "outputs": [],
   "source": []
  },
  {
   "cell_type": "markdown",
   "id": "29d51d89-fabb-4fbc-a783-5383f632facd",
   "metadata": {},
   "source": [
    "輸出結果"
   ]
  },
  {
   "cell_type": "code",
   "execution_count": null,
   "id": "68bcfbc2-b1c9-4214-87c4-9787967179e5",
   "metadata": {},
   "outputs": [],
   "source": [
    "result"
   ]
  },
  {
   "cell_type": "code",
   "execution_count": null,
   "id": "fb73e428-1d7c-4602-9e60-4f3b12d6cccd",
   "metadata": {},
   "outputs": [],
   "source": []
  }
 ],
 "metadata": {
  "kernelspec": {
   "display_name": "Python 3 (ipykernel)",
   "language": "python",
   "name": "python3"
  },
  "language_info": {
   "codemirror_mode": {
    "name": "ipython",
    "version": 3
   },
   "file_extension": ".py",
   "mimetype": "text/x-python",
   "name": "python",
   "nbconvert_exporter": "python",
   "pygments_lexer": "ipython3",
   "version": "3.11.10"
  }
 },
 "nbformat": 4,
 "nbformat_minor": 5
}
