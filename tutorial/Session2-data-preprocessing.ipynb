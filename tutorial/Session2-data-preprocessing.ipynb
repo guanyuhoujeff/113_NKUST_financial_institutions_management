{
 "cells": [
  {
   "cell_type": "code",
   "execution_count": null,
   "id": "b6e6a8da-4bc6-427f-a3b6-eaa96e7d75c6",
   "metadata": {},
   "outputs": [],
   "source": [
    "!pip install openpyxl\n",
    "!pip install pandas"
   ]
  },
  {
   "cell_type": "markdown",
   "id": "aab015ec-b448-4ba2-972f-aadd6a57736e",
   "metadata": {},
   "source": [
    "## 套件"
   ]
  },
  {
   "cell_type": "code",
   "execution_count": null,
   "id": "5bca81f1-70e6-4e2c-92ed-d40eef2591d8",
   "metadata": {},
   "outputs": [],
   "source": [
    "import ???? as pd"
   ]
  },
  {
   "cell_type": "code",
   "execution_count": null,
   "id": "de7ba1da-3c46-4820-a0de-e88443d091b0",
   "metadata": {},
   "outputs": [],
   "source": [
    "price_data = pd.????('price-data.txt',  encoding='cp950')\n",
    "ifrs_data = pd.????('ifrs-data.txt',  encoding='cp950')"
   ]
  },
  {
   "cell_type": "markdown",
   "id": "5fdbdbd1-11a9-4750-811e-5262ec9b552b",
   "metadata": {},
   "source": [
    "# 查看資料"
   ]
  },
  {
   "cell_type": "code",
   "execution_count": null,
   "id": "f5435e4f-1a16-4777-bed4-894aa5b53c39",
   "metadata": {},
   "outputs": [],
   "source": [
    "price_data.?????()"
   ]
  },
  {
   "cell_type": "code",
   "execution_count": null,
   "id": "8fc7ab64-2060-4513-9336-013377353f40",
   "metadata": {},
   "outputs": [],
   "source": [
    "ifrs_data.?????()"
   ]
  },
  {
   "cell_type": "markdown",
   "id": "30e90f7f-b9b4-4fe0-b514-73afde3fbb05",
   "metadata": {},
   "source": [
    "# 1. 改欄位名稱"
   ]
  },
  {
   "cell_type": "code",
   "execution_count": null,
   "id": "9680d296-9811-4731-98c5-3e7a9355b262",
   "metadata": {},
   "outputs": [],
   "source": [
    "# 中文欄位與英文簡稱的對應字典\n",
    "variable_dict = {\n",
    "    \"證券代碼\": \"code\",\n",
    "    \"簡稱\":\"name\",\n",
    "    'TSE新產業_名稱': 'ind',\n",
    "    '報酬率％': 'ret',\n",
    "    '年月日': 'date',\n",
    "    '報酬率％': 'ret',\n",
    "    '市值(百萬元)': 'size',\n",
    "\n",
    "    \"公司\":  \"code\",\n",
    "    '年/月' : \"year_month\",\n",
    "    '營業費用': 'op_exp',\n",
    "    'ROA－綜合損益': 'ROA',\n",
    "    'ROE－綜合損益': 'ROE',\n",
    "    '營業利益率': 'op_pm',\n",
    "    '總資產週轉次數': 'AT',\n",
    "    '自由現金流量(D)': 'FCF',\n",
    "    '財務槓桿度': 'Lev',\n",
    "    '股利殖利率': 'DY',\n",
    "    'Tobins Q': 'TQ',\n",
    "}\n",
    "\n",
    "print(variable_dict)"
   ]
  },
  {
   "cell_type": "code",
   "execution_count": null,
   "id": "1128ccb4-7d44-42d7-9633-52d6c79993d9",
   "metadata": {},
   "outputs": [],
   "source": [
    "price_data = price_data. ????? (columns=variable_dict)\n",
    "price_data"
   ]
  },
  {
   "cell_type": "code",
   "execution_count": null,
   "id": "5f2c6ed1-e20d-43f7-86b0-719041d93648",
   "metadata": {
    "scrolled": true
   },
   "outputs": [],
   "source": [
    "ifrs_data = ifrs_data. ???? (columns=variable_dict)\n",
    "ifrs_data"
   ]
  },
  {
   "cell_type": "code",
   "execution_count": null,
   "id": "eff2a42c-a15e-4232-bd39-af3ce8cb4687",
   "metadata": {},
   "outputs": [],
   "source": []
  },
  {
   "cell_type": "markdown",
   "id": "80e3b0ad-7a3a-49e6-a3a8-5f4fde4c056f",
   "metadata": {},
   "source": [
    "# 2. 資料內容是不是有問題"
   ]
  },
  {
   "cell_type": "markdown",
   "id": "73bb0e37-02e6-4ac2-a8ec-ca16b724cbb4",
   "metadata": {},
   "source": [
    "資料型態"
   ]
  },
  {
   "cell_type": "code",
   "execution_count": null,
   "id": "f011a6e2-255b-497d-ae8e-5cfb616aa33c",
   "metadata": {},
   "outputs": [],
   "source": [
    "price_data. ??()"
   ]
  },
  {
   "cell_type": "code",
   "execution_count": null,
   "id": "22c88639-79c2-4787-8278-6054bccd18e0",
   "metadata": {},
   "outputs": [],
   "source": [
    "ifrs_data. ??()"
   ]
  },
  {
   "cell_type": "code",
   "execution_count": null,
   "id": "5b9f79fc-c10c-4491-a34c-d22dd6bbe26b",
   "metadata": {},
   "outputs": [],
   "source": []
  },
  {
   "cell_type": "markdown",
   "id": "32a0ecd5-878c-4911-9a77-2439dcdf0b65",
   "metadata": {},
   "source": [
    "取出值"
   ]
  },
  {
   "cell_type": "code",
   "execution_count": null,
   "id": "5c7e10d8-bf59-4b6a-955f-dd6f28de99c5",
   "metadata": {},
   "outputs": [],
   "source": [
    "price_data. ???[1]"
   ]
  },
  {
   "cell_type": "code",
   "execution_count": null,
   "id": "ab4698a8-b091-42aa-8abd-f75f8d0566c3",
   "metadata": {
    "scrolled": true
   },
   "outputs": [],
   "source": [
    "ifrs_data. ???[1]"
   ]
  },
  {
   "cell_type": "markdown",
   "id": "cecf14b6-c1a4-4561-b3d9-52f23cf909b6",
   "metadata": {},
   "source": [
    "### 處理資料"
   ]
  },
  {
   "cell_type": "code",
   "execution_count": null,
   "id": "6ff8c368-11ea-48dd-81af-07d9cbbae229",
   "metadata": {},
   "outputs": [],
   "source": [
    "def convertFloat(value):\n",
    "    ???\n",
    "        return float(value)\n",
    "    ???\n",
    "        return None"
   ]
  },
  {
   "cell_type": "code",
   "execution_count": null,
   "id": "74846986-197d-478d-89fb-072c9b54a096",
   "metadata": {},
   "outputs": [],
   "source": [
    "ifrs_data[\"op_pm\"] = ifrs_data[\"op_pm\"].apply(convertFloat)\n",
    "ifrs_data[\"AT\"] = ifrs_data[\"AT\"].apply(convertFloat)\n",
    "ifrs_data[\"FCF\"] = ifrs_data[\"FCF\"].apply(convertFloat)\n",
    "ifrs_data[\"Lev\"] = ifrs_data[\"Lev\"].apply(convertFloat)"
   ]
  },
  {
   "cell_type": "code",
   "execution_count": null,
   "id": "aad7aef1-d13b-4121-bfed-51e2bacfdb99",
   "metadata": {},
   "outputs": [],
   "source": []
  },
  {
   "cell_type": "code",
   "execution_count": null,
   "id": "707f3477-2175-4fcd-a969-577fed7e55fe",
   "metadata": {},
   "outputs": [],
   "source": []
  },
  {
   "cell_type": "markdown",
   "id": "4f4bc66d-3dcd-43e5-9c84-88d0b8d7eab4",
   "metadata": {},
   "source": [
    "### 處理字串資料"
   ]
  },
  {
   "cell_type": "code",
   "execution_count": null,
   "id": "328885cc-e1f0-4781-ab8b-a49b65c8d950",
   "metadata": {},
   "outputs": [],
   "source": [
    "# 價格資料\n",
    "price_data[\"name\"] = price_data[\"name\"].apply(lambda x: x.??())\n",
    "price_data[\"ind\"] = price_data[\"ind\"].apply(lambda x: x.??())\n",
    "\n",
    "# 財報資料\n",
    "ifrs_data[\"name\"] = ifrs_data[\"name\"].apply(lambda x: x.??())"
   ]
  },
  {
   "cell_type": "code",
   "execution_count": null,
   "id": "0d84d0f2-ed81-46d4-a8c5-37f04dd5d8cf",
   "metadata": {},
   "outputs": [],
   "source": []
  },
  {
   "cell_type": "code",
   "execution_count": null,
   "id": "37fe047e-6abe-4c9e-9c28-0e8e88b00685",
   "metadata": {},
   "outputs": [],
   "source": [
    "price_data.values[1]"
   ]
  },
  {
   "cell_type": "code",
   "execution_count": null,
   "id": "92207ebc-233c-491b-96ba-c36c67fdf259",
   "metadata": {},
   "outputs": [],
   "source": [
    "ifrs_data.values[1]"
   ]
  },
  {
   "cell_type": "code",
   "execution_count": null,
   "id": "a2adc3c3-f9b1-4e81-ab76-2c2a2905be4e",
   "metadata": {},
   "outputs": [],
   "source": []
  },
  {
   "cell_type": "markdown",
   "id": "7aabe6d5-557f-406d-a4c4-24b6e67bdd11",
   "metadata": {},
   "source": [
    "# 3. 合併高低頻率資料"
   ]
  },
  {
   "cell_type": "markdown",
   "id": "9cd12d59-50bd-4a04-ad7e-6fb3969fb7be",
   "metadata": {},
   "source": [
    "配合低頻資料產生可以對應的時間欄位"
   ]
  },
  {
   "cell_type": "code",
   "execution_count": null,
   "id": "8adf7556-b225-49d5-bb4b-91df38294846",
   "metadata": {},
   "outputs": [],
   "source": [
    "def dateToDateYearMonth(date_value):\n",
    "    return ?????"
   ]
  },
  {
   "cell_type": "code",
   "execution_count": null,
   "id": "48b59aea-c763-41db-a94a-bf89412c77f5",
   "metadata": {},
   "outputs": [],
   "source": [
    "dateToDateYearMonth(20170304)"
   ]
  },
  {
   "cell_type": "code",
   "execution_count": null,
   "id": "74fd09d9-ded8-4a26-b537-002b6f0d261e",
   "metadata": {},
   "outputs": [],
   "source": []
  },
  {
   "cell_type": "code",
   "execution_count": null,
   "id": "fe267d30-e5c6-495c-baea-2ae9979198bd",
   "metadata": {},
   "outputs": [],
   "source": [
    "price_data['year_month'] = price_data['date'].apply(dateToDateYearMonth)"
   ]
  },
  {
   "cell_type": "code",
   "execution_count": null,
   "id": "09e893b5-7f75-4ad5-bdf5-1f771b7ccf2d",
   "metadata": {},
   "outputs": [],
   "source": [
    "price_data"
   ]
  },
  {
   "cell_type": "code",
   "execution_count": null,
   "id": "9617c37b-ace4-4ee7-9b55-d972bc1b1a64",
   "metadata": {},
   "outputs": [],
   "source": []
  },
  {
   "cell_type": "markdown",
   "id": "f5fb8f57-a450-488a-aa8f-ed7b2f777b40",
   "metadata": {},
   "source": [
    "# 聊一下合併資料"
   ]
  },
  {
   "cell_type": "code",
   "execution_count": null,
   "id": "504a6deb-c5e3-4068-91ab-7676505760d8",
   "metadata": {},
   "outputs": [],
   "source": [
    "student_data = pd.DataFrame([\n",
    "    {'student_name': \"John Cena\", 'student_no': 1},\n",
    "    {'student_name': \"Mary\", 'student_no': 2},\n",
    "    {'student_name': \"Bob\", 'student_no': 3},\n",
    "    {'student_name': \"Patrick\", 'student_no': 4},\n",
    "    {'student_name': \"Hank\", 'student_no': 5}]\n",
    ")\n",
    "\n",
    "student_course_data = pd.DataFrame([\n",
    "    {'course_name': \"微積分\", 'student_no': 2},\n",
    "    {'course_name': \"微積分\", 'student_no': 5},\n",
    "    {'course_name': \"時間序列\", 'student_no': 3},\n",
    "    {'course_name': \"時間序列\", 'student_no': 4},\n",
    "    {'course_name': \"時間序列\", 'student_no': 5},\n",
    "    {'course_name': \"程式設計\", 'student_no': 6},\n",
    "])"
   ]
  },
  {
   "cell_type": "markdown",
   "id": "5046c17f-ebf6-4271-b514-6c2d4c67deb3",
   "metadata": {},
   "source": [
    "#### 合併的4方法"
   ]
  },
  {
   "cell_type": "markdown",
   "id": "65c5ffa1-295f-4d85-9e8c-a5a102d396e3",
   "metadata": {},
   "source": [
    "1. left"
   ]
  },
  {
   "cell_type": "code",
   "execution_count": null,
   "id": "203aa304-8cfa-479b-aab7-835062cb8ebf",
   "metadata": {},
   "outputs": [],
   "source": [
    "student_data.merge(student_course_data, on='student_no', how= ?? )"
   ]
  },
  {
   "cell_type": "markdown",
   "id": "ba5f7942-eb9e-4389-b1d6-cf560a991f03",
   "metadata": {},
   "source": [
    "2. right"
   ]
  },
  {
   "cell_type": "code",
   "execution_count": null,
   "id": "30bc622c-897b-49ab-b700-d86fc8644a8a",
   "metadata": {},
   "outputs": [],
   "source": [
    "student_data.merge(student_course_data, on='student_no', how= ?? )"
   ]
  },
  {
   "cell_type": "markdown",
   "id": "71dd6daa-4bdc-4091-aa81-b1c67b6f217b",
   "metadata": {},
   "source": [
    "3. inner"
   ]
  },
  {
   "cell_type": "code",
   "execution_count": null,
   "id": "b37e2c11-b763-49f9-8de6-7446ef7a77de",
   "metadata": {},
   "outputs": [],
   "source": [
    "student_data.merge(student_course_data, on='student_no', how= ?? )"
   ]
  },
  {
   "cell_type": "markdown",
   "id": "c10be5a8-180f-4992-9d58-82a57e8219db",
   "metadata": {},
   "source": [
    "4. outer"
   ]
  },
  {
   "cell_type": "code",
   "execution_count": null,
   "id": "19401789-f582-42d6-98c0-c20384b234b7",
   "metadata": {},
   "outputs": [],
   "source": [
    "student_data.merge(student_course_data, on='student_no', how= ?? )"
   ]
  },
  {
   "cell_type": "markdown",
   "id": "4817a275-66f3-4846-9df0-586b2aad36b5",
   "metadata": {},
   "source": [
    "### price data merge ifrs data"
   ]
  },
  {
   "cell_type": "code",
   "execution_count": null,
   "id": "ab19b4f1-04e1-4c3a-81fe-9be8659eb6e4",
   "metadata": {},
   "outputs": [],
   "source": [
    "price_data"
   ]
  },
  {
   "cell_type": "code",
   "execution_count": null,
   "id": "ebcc1668-e06b-46b8-b1fe-1040c7a3fb1f",
   "metadata": {
    "scrolled": true
   },
   "outputs": [],
   "source": [
    "merge_data = price_data.merge(ifrs_data, \n",
    "                              on= ??? , \n",
    "                              how= ??? )"
   ]
  },
  {
   "cell_type": "code",
   "execution_count": null,
   "id": "2a02e481-4038-420a-ac79-8c9eaa31a580",
   "metadata": {},
   "outputs": [],
   "source": [
    "merge_data"
   ]
  },
  {
   "cell_type": "markdown",
   "id": "7b7d65eb-d548-42ad-8a45-aa61ce14b547",
   "metadata": {},
   "source": [
    "再根據時間排序一下"
   ]
  },
  {
   "cell_type": "code",
   "execution_count": null,
   "id": "4743f9f4-2270-4097-a447-bcb5731fc82d",
   "metadata": {},
   "outputs": [],
   "source": [
    "merge_data = merge_data. ??? (by= ????)\n",
    "merge_data"
   ]
  },
  {
   "cell_type": "markdown",
   "id": "52aee227-a14c-44b0-8607-498f21f283b4",
   "metadata": {},
   "source": [
    "# 匯出成excel資料"
   ]
  },
  {
   "cell_type": "code",
   "execution_count": null,
   "id": "fd849cf3-3fad-4cba-b768-d4bb5d6e1a8d",
   "metadata": {},
   "outputs": [],
   "source": [
    "merge_data. ???  (\"merge_data.xlsx\")"
   ]
  },
  {
   "cell_type": "code",
   "execution_count": null,
   "id": "ff0e8ff0-8683-4dec-bf84-f012ba46a7ef",
   "metadata": {},
   "outputs": [],
   "source": []
  },
  {
   "cell_type": "markdown",
   "id": "80a437db-7b54-470b-88f8-496081dd0dad",
   "metadata": {},
   "source": [
    "# 遺漏值處理"
   ]
  },
  {
   "cell_type": "code",
   "execution_count": null,
   "id": "19680359-c6b9-4fe6-bb90-865c9f089f15",
   "metadata": {},
   "outputs": [],
   "source": []
  },
  {
   "cell_type": "code",
   "execution_count": null,
   "id": "04f5bb8b-aae2-4471-b3bd-e3bebcfcb267",
   "metadata": {},
   "outputs": [],
   "source": [
    "merge_data[\"op_exp\"] = merge_data.groupby('code')[\"op_exp\"].transform(lambda x: x.ffill())\n",
    "merge_data[\"ROA\"] = merge_data.groupby('code')[\"ROA\"].transform(lambda x: x.ffill())\n",
    "merge_data[\"ROE\"] = merge_data.groupby('code')[\"ROE\"].transform(lambda x: x.ffill())\n",
    "merge_data[\"op_pm\"] = merge_data.groupby('code')[\"op_pm\"].transform(lambda x: x.ffill())\n",
    "merge_data[\"AT\"] = merge_data.groupby('code')[\"AT\"].transform(lambda x: x.ffill())\n",
    "merge_data[\"FCF\"] = merge_data.groupby('code')[\"FCF\"].transform(lambda x: x.ffill())\n",
    "merge_data[\"Lev\"] = merge_data.groupby('code')[\"Lev\"].transform(lambda x: x.ffill())\n",
    "merge_data[\"DY\"] = merge_data.groupby('code')[\"DY\"].transform(lambda x: x.ffill())\n",
    "merge_data[\"TQ\"] = merge_data.groupby('code')[\"TQ\"].transform(lambda x: x.ffill())"
   ]
  },
  {
   "cell_type": "code",
   "execution_count": null,
   "id": "523f690e-0cf1-4559-bddb-d2404c72394f",
   "metadata": {},
   "outputs": [],
   "source": [
    "merge_data. ??? (\"merge_data_fill_na.xlsx\", ???? =False)"
   ]
  },
  {
   "cell_type": "code",
   "execution_count": null,
   "id": "615d8d86-9569-45d2-a080-4b1bcd02fb45",
   "metadata": {},
   "outputs": [],
   "source": []
  },
  {
   "cell_type": "code",
   "execution_count": null,
   "id": "e7095d33-6189-4cf0-9310-6bf6168bde1d",
   "metadata": {},
   "outputs": [],
   "source": []
  }
 ],
 "metadata": {
  "kernelspec": {
   "display_name": "Python 3 (ipykernel)",
   "language": "python",
   "name": "python3"
  },
  "language_info": {
   "codemirror_mode": {
    "name": "ipython",
    "version": 3
   },
   "file_extension": ".py",
   "mimetype": "text/x-python",
   "name": "python",
   "nbconvert_exporter": "python",
   "pygments_lexer": "ipython3",
   "version": "3.11.10"
  }
 },
 "nbformat": 4,
 "nbformat_minor": 5
}
